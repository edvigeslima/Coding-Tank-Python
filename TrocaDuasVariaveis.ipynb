{
  "nbformat": 4,
  "nbformat_minor": 0,
  "metadata": {
    "colab": {
      "name": "TrocaDuasVariaveis",
      "provenance": [],
      "authorship_tag": "ABX9TyPnPdtJ3mDP60oXgMPsSeaw",
      "include_colab_link": true
    },
    "kernelspec": {
      "name": "python3",
      "display_name": "Python 3"
    },
    "language_info": {
      "name": "python"
    }
  },
  "cells": [
    {
      "cell_type": "markdown",
      "metadata": {
        "id": "view-in-github",
        "colab_type": "text"
      },
      "source": [
        "<a href=\"https://colab.research.google.com/github/edvigeslima/Python-Exercises/blob/main/TrocaDuasVariaveis.ipynb\" target=\"_parent\"><img src=\"https://colab.research.google.com/assets/colab-badge.svg\" alt=\"Open In Colab\"/></a>"
      ]
    },
    {
      "cell_type": "code",
      "execution_count": null,
      "metadata": {
        "colab": {
          "base_uri": "https://localhost:8080/"
        },
        "id": "tpfEqHHT-7Ni",
        "outputId": "65743c51-b328-4b61-d220-0d458b9a9c4b"
      },
      "outputs": [
        {
          "output_type": "stream",
          "name": "stdout",
          "text": [
            "Informe um valor de variável A: 12\n",
            "Informe outro valor de variável B: 32\n",
            "A: 12 | B: 32\n",
            "Novo A: 32 | Novo B: 12\n"
          ]
        }
      ],
      "source": [
        "# Escreva um algoritmo que armazene um valor X em uma variável A\n",
        "# e um valor Y em uma variável B.\n",
        "# Troque os valores das duas variáveis sem criar uma terceira\n",
        "# e usando apenas operações matemáticas.\n",
        "\n",
        "A = int(input(\"Informe um valor de variável A: \"))\n",
        "B = int(input(\"Informe outro valor de variável B: \"))\n",
        "\n",
        "print(f\"A: {A} | B: {B}\")\n",
        "\n",
        "A = A + B\n",
        "B = A - B\n",
        "A = A - B\n",
        "\n",
        "print(f\"Novo A: {A} | Novo B: {B}\")"
      ]
    }
  ]
}