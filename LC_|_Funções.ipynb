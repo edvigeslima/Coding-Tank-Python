{
  "cells": [
    {
      "cell_type": "code",
      "execution_count": null,
      "metadata": {
        "colab": {
          "base_uri": "https://localhost:8080/"
        },
        "id": "9mRrr8RXwi3Y",
        "outputId": "e347d05b-2f99-433a-8af0-91a609a0c9e6"
      },
      "outputs": [
        {
          "name": "stdout",
          "output_type": "stream",
          "text": [
            "Digite um número: 45\n",
            "90\n"
          ]
        }
      ],
      "source": [
        "# Faça uma função que recebe um número e imprime seu dobro.\n",
        "\n",
        "def dobro(num):\n",
        " dobro  = num * 2\n",
        " print(dobro)\n",
        "\n",
        "x = int(input(\"Digite um número: \"))\n",
        "dobro(x)"
      ]
    },
    {
      "cell_type": "code",
      "execution_count": null,
      "metadata": {
        "colab": {
          "base_uri": "https://localhost:8080/"
        },
        "id": "A3pVNkIAxeoQ",
        "outputId": "f9cb5f4f-4a53-4adb-92c9-f9154dbb0bbe"
      },
      "outputs": [
        {
          "name": "stdout",
          "output_type": "stream",
          "text": [
            "Digite um número do raio de um círculo: 56\n",
            "Comprimento de sua circunferência: 351.85837720205683\n"
          ]
        }
      ],
      "source": [
        "# Faça uma função que recebe o valor do raio de um círculo e\n",
        "# retorna o valor do comprimento de sua circunferência: C = 2*pi*r.\n",
        "\n",
        "def comp_circulo (raio):\n",
        "  pi = 3.141592653589793\n",
        "  circulo = 2*pi*raio\n",
        "  return circulo\n",
        "\n",
        "comprimento = comp_circulo(int(input(\"Digite um número do raio de um círculo: \")))\n",
        "print(f\"Comprimento de sua circunferência: {comprimento}\")"
      ]
    },
    {
      "cell_type": "code",
      "execution_count": null,
      "metadata": {
        "colab": {
          "base_uri": "https://localhost:8080/"
        },
        "id": "IGUZGwBu0T59",
        "outputId": "28b26cd6-77a6-4e71-f86b-fa469a802400"
      },
      "outputs": [
        {
          "name": "stdout",
          "output_type": "stream",
          "text": [
            "Digite o primeiro número: 67\n",
            "Digite o segundo número: 7\n",
            "74\n",
            "60\n",
            "469\n",
            "9.57\n"
          ]
        }
      ],
      "source": [
        "# Faça uma função para cada operação matemática básica (soma, subtração, multiplicação e divisão).\n",
        "# As funções devem receber dois números e retornar o resultado da operação.\n",
        "\n",
        "def soma (a, b):\n",
        "  soma = a + b\n",
        "  return soma\n",
        "\n",
        "def subtracao (a, b):\n",
        "  subtracao = a - b\n",
        "  return subtracao\n",
        "\n",
        "def multiplicacao (a, b):\n",
        "  multiplicacao = a * b\n",
        "  return multiplicacao\n",
        "\n",
        "def divisao (a, b):\n",
        "  divisao = round(a / b, 2)\n",
        "  return divisao\n",
        "\n",
        "\n",
        "num_1 = int(input(\"Digite o primeiro número: \"))\n",
        "num_2 = int(input(\"Digite o segundo número: \"))\n",
        "\n",
        "sua_soma = soma(num_1, num_2)\n",
        "print(sua_soma)\n",
        "\n",
        "sua_sub = subtracao(num_1, num_2)\n",
        "print(sua_sub)\n",
        "\n",
        "sua_multi = multiplicacao(num_1, num_2)\n",
        "print(sua_multi)\n",
        "\n",
        "sua_div = divisao(num_1, num_2)\n",
        "print(sua_div)\n"
      ]
    },
    {
      "cell_type": "code",
      "execution_count": null,
      "metadata": {
        "colab": {
          "base_uri": "https://localhost:8080/"
        },
        "id": "f2IdKQp44HQm",
        "outputId": "916f8c02-853a-425b-c1cc-1d9a7c704faa"
      },
      "outputs": [
        {
          "name": "stdout",
          "output_type": "stream",
          "text": [
            "Informe seu nome: Edviges\n",
            "Olá, Edviges\n"
          ]
        }
      ],
      "source": [
        "# Faça uma função que recebe um nome e imprime “olá, [nome]”.\n",
        "\n",
        "def hi_name(nome):\n",
        "  print(f\"Olá, {nome}\")\n",
        "\n",
        "hi_name(str(input(\"Informe seu nome: \")))"
      ]
    },
    {
      "cell_type": "code",
      "execution_count": null,
      "metadata": {
        "colab": {
          "base_uri": "https://localhost:8080/"
        },
        "id": "5iMc7vkL5Rr6",
        "outputId": "8cf117e3-b95a-43e8-d87e-2411b3784e74"
      },
      "outputs": [
        {
          "name": "stdout",
          "output_type": "stream",
          "text": [
            "Informe seu nome: Edviges\n",
            "Bom dia, Edviges!\n"
          ]
        }
      ],
      "source": [
        "# Faça uma função que recebe um nome e um horário\n",
        "# e imprime “Bom dia, [nome]”, caso seja antes de 12h,\n",
        "# “Boa Tarde, [nome]”, caso seja entre 12h e 18h e\n",
        "# “Boa noite, [nome]” se for após às 18h.\n",
        "\n",
        "from datetime import datetime\n",
        "\n",
        "def saudacao(nome, horario):\n",
        "  if horario < 12:\n",
        "    print(f\"Bom dia, {nome}!\")\n",
        "  elif horario >= 12 and horario <= 18:\n",
        "    print(f\"Boa tarde, {nome}!\")\n",
        "  elif horario > 18:\n",
        "    print(f\"Boa noite, {nome}!\")\n",
        "\n",
        "seu_nome = input(\"Informe seu nome: \")\n",
        "hora = datetime.now().hour\n",
        "saudacao(seu_nome, hora)\n",
        "\n"
      ]
    },
    {
      "cell_type": "code",
      "source": [
        "from datetime import datetime\n",
        "\n",
        "ano = 1991\n",
        "idade = datetime.now().year - ano\n",
        "print(idade)"
      ],
      "metadata": {
        "colab": {
          "base_uri": "https://localhost:8080/"
        },
        "id": "VvHvvKj9xehx",
        "outputId": "0c1f1e90-5e57-438a-bfe7-ebfdfba5993b"
      },
      "execution_count": null,
      "outputs": [
        {
          "output_type": "stream",
          "name": "stdout",
          "text": [
            "31\n"
          ]
        }
      ]
    },
    {
      "cell_type": "code",
      "execution_count": null,
      "metadata": {
        "colab": {
          "base_uri": "https://localhost:8080/"
        },
        "id": "ylQyLPZHHKI3",
        "outputId": "33e0dcc3-8281-45c5-e002-a94e4642739e"
      },
      "outputs": [
        {
          "name": "stdout",
          "output_type": "stream",
          "text": [
            "True\n"
          ]
        }
      ],
      "source": [
        "# Faça uma função que recebe um número e retorna True se ele é par ou False, se ele é ímpar.\n",
        "\n",
        "def ehPar (numero):\n",
        "  if numero%2 == 0:\n",
        "    return True\n",
        "  else:\n",
        "    return False\n",
        "\n",
        "print(ehPar(2))"
      ]
    },
    {
      "cell_type": "code",
      "execution_count": null,
      "metadata": {
        "colab": {
          "base_uri": "https://localhost:8080/"
        },
        "id": "EmgArLDWIK-p",
        "outputId": "bdca21f1-0ee3-4d75-edf8-59a8d9c117fd"
      },
      "outputs": [
        {
          "output_type": "stream",
          "name": "stdout",
          "text": [
            "87\n"
          ]
        }
      ],
      "source": [
        "# Faça uma função que sorteia 10 números aleatórios entre 0 e 100 e retorna o maior entre eles.\n",
        "from random import randint\n",
        "\n",
        "def random_list ():\n",
        "  numeros = [randint(0, 101) for numero in range(0, 10)]\n",
        "  maximo = max(numeros)\n",
        "  return maximo\n",
        "\n",
        "maximo = random_list()\n",
        "print(maximo)"
      ]
    },
    {
      "cell_type": "code",
      "source": [
        "# Faça uma função que recebe um número n de entrada,\n",
        "# sorteia n números aleatórios entre 0 e 100 e retorna a média deles.\n",
        "\n",
        "def random_list_media (n):\n",
        "  numeros = [randint(0, 101) for numero in range(0, n)]\n",
        "  if n > 0:\n",
        "    media = sum(numeros) / n\n",
        "  else:\n",
        "    media = str(\"Divisão por Zero . Tente novamente com outro número.\")\n",
        "  return media\n",
        "\n",
        "media = random_list_media (int(input(\"Informe um número positivo: \")))\n",
        "print(media)"
      ],
      "metadata": {
        "colab": {
          "base_uri": "https://localhost:8080/"
        },
        "id": "nYSCPokcv6GH",
        "outputId": "3e076600-28ff-4dff-feea-4441357fb421"
      },
      "execution_count": null,
      "outputs": [
        {
          "output_type": "stream",
          "name": "stdout",
          "text": [
            "Informe um número positivo: 8\n",
            "[100, 35, 51, 77, 72, 1, 68, 54]\n",
            "57.25\n"
          ]
        }
      ]
    },
    {
      "cell_type": "code",
      "source": [
        "# Faça uma função que recebe uma lista de palavras e\n",
        "# retorna uma lista contendo as mesmas palavras da lista anterior,\n",
        "# porém escritas em caixa alta.\n",
        "\n",
        "def caixa_lista (lista_palavras):\n",
        "  nova_lista_palavras = []\n",
        "  for palavra in lista_palavras:\n",
        "    nova_lista_palavras.append(palavra.upper()) \n",
        "  return nova_lista_palavras\n",
        "\n",
        "palavra = input(\"Insira os itens da lista com espaçamento: \")\n",
        "palavras = palavra.split(\" \")\n",
        "print(caixa_lista(palavras))"
      ],
      "metadata": {
        "colab": {
          "base_uri": "https://localhost:8080/"
        },
        "id": "1vwcd-GO05Q5",
        "outputId": "2f3a16b9-5237-4710-bfc6-ef6e2a04c8ec"
      },
      "execution_count": null,
      "outputs": [
        {
          "output_type": "stream",
          "name": "stdout",
          "text": [
            "Insira os itens da lista: a rosa é vermelha\n",
            "['A', 'ROSA', 'É', 'VERMELHA']\n"
          ]
        }
      ]
    },
    {
      "cell_type": "code",
      "source": [
        "''' Faça uma função que recebe duas listas e retorna a soma item a item dessas listas.\n",
        "\n",
        "Exemplo: Se a função receber as listas [1,4,3] e [3,5,1], então a função deve retornar [1+3, 4+5, 3+1] = [4, 9, 4]. '''\n",
        "\n",
        "def soma_listas (lista_1, lista_2):\n",
        "    nova_lista =[]\n",
        "    for num in range(len(lista_1)):\n",
        "      nova_lista.append(lista_1[num]+lista_2[num])\n",
        "\n",
        "    return nova_lista\n",
        "\n",
        "l1 = [1, 4, 3]\n",
        "l2 = [3, 5, 1]\n",
        "print(soma_listas(l1, l2))"
      ],
      "metadata": {
        "colab": {
          "base_uri": "https://localhost:8080/"
        },
        "id": "THnm1tfvFnm7",
        "outputId": "31f5c73c-558a-46d6-a468-ca003145f334"
      },
      "execution_count": null,
      "outputs": [
        {
          "output_type": "stream",
          "name": "stdout",
          "text": [
            "[4, 9, 4]\n"
          ]
        }
      ]
    },
    {
      "cell_type": "code",
      "source": [
        "''' Faça uma função que recebe um número x e uma lista numérica e retorna uma lista cujos elementos são os itens da lista de entrada multiplicado por x.\n",
        "\n",
        "Exemplo:\n",
        "\n",
        "Se a função receber o número 5 e a lista [3,5,1], então a função deve retornar [5x3, 5x5, 5x1] = [15, 25, 5].'''\n",
        "\n",
        "def multi_lista (numero, lista):\n",
        "  nova_lista =[]\n",
        "  for num in range(len(lista)):\n",
        "    nova_lista.append(lista[num]*numero)\n",
        "\n",
        "  return nova_lista\n",
        "\n",
        "x = int(input(\"Digite um número de multiplicação: \"))\n",
        "lista_numerica = []\n",
        "for num in range(5):\n",
        " numeros = int(input(f\"Insira um item [{num+1}] da lista : \"))\n",
        " lista_numerica.append(numeros)\n",
        "\n",
        "print(multi_lista(x, lista_numerica))"
      ],
      "metadata": {
        "colab": {
          "base_uri": "https://localhost:8080/"
        },
        "id": "gTLmmtWDPmmW",
        "outputId": "46622254-0db3-495b-e148-c1453b525a29"
      },
      "execution_count": null,
      "outputs": [
        {
          "output_type": "stream",
          "name": "stdout",
          "text": [
            "Digite um número de multiplicação: 5\n",
            "Insira um item [0] da lista : 5\n",
            "Insira um item [1] da lista : 6\n",
            "Insira um item [2] da lista : 0\n",
            "Insira um item [3] da lista : 90\n",
            "Insira um item [4] da lista : 46\n",
            "[25, 30, 0, 450, 230]\n"
          ]
        }
      ]
    },
    {
      "cell_type": "code",
      "source": [
        "''''Faça uma função que recebe duas listas e retorna a soma item a item dessas listas.\n",
        "\n",
        "Exemplo: Se a função receber as listas [1,4,3] e [3,5,1], então a função deve retornar [1+3, 4+5, 3+1] = [4, 9, 4].'''\n",
        "\n",
        "def multi_listas (lista_1, lista_2):\n",
        "    nova_lista =[]\n",
        "    for num in range(len(lista_1)):\n",
        "      nova_lista.append(lista_1[num]*lista_2[num])\n",
        "\n",
        "    return nova_lista\n",
        "\n",
        "l1 = []\n",
        "l2 = []\n",
        "\n",
        "for num in range(5):\n",
        " numeros = int(input(f\"Insira um item [{num+1}] da lista 1: \"))\n",
        " l1.append(numeros)\n",
        "\n",
        "print(end=\"\\n\")\n",
        "\n",
        "for num in range(5):\n",
        " numeros = int(input(f\"Insira um item [{num+1}] da lista 2 : \"))\n",
        " l2.append(numeros)\n",
        "\n",
        "print(end=\"\\n\")\n",
        "print(multi_listas(l1, l2))\n"
      ],
      "metadata": {
        "colab": {
          "base_uri": "https://localhost:8080/"
        },
        "id": "3JzZuxnBXGnV",
        "outputId": "771850d3-471c-4466-b201-78ac63082256"
      },
      "execution_count": null,
      "outputs": [
        {
          "output_type": "stream",
          "name": "stdout",
          "text": [
            "Insira um item [1] da lista 1: 12\n",
            "Insira um item [2] da lista 1: 90\n",
            "Insira um item [3] da lista 1: 9\n",
            "Insira um item [4] da lista 1: 8\n",
            "Insira um item [5] da lista 1: 4\n",
            "\n",
            "Insira um item [1] da lista 2 : 12\n",
            "Insira um item [2] da lista 2 : 11\n",
            "Insira um item [3] da lista 2 : 1\n",
            "Insira um item [4] da lista 2 : 0\n",
            "Insira um item [5] da lista 2 : 6\n",
            "\n",
            "[144, 990, 9, 0, 24]\n"
          ]
        }
      ]
    },
    {
      "cell_type": "code",
      "source": [
        "#Faça uma função que recebe uma lista de números e retorna a soma dos elementos dessa lista.\n",
        "\n",
        "def soma_lista (lista):\n",
        "  return sum(lista)\n",
        "\n",
        "\n",
        "lista = []\n",
        "for num in range(5):\n",
        " numeros = int(input(f\"Insira um item [{num+1}] da lista : \"))\n",
        " lista.append(numeros)\n",
        "\n",
        "print(\"Soma de sua lista: \", soma_lista(lista))"
      ],
      "metadata": {
        "colab": {
          "base_uri": "https://localhost:8080/"
        },
        "id": "UnDBti2uZ40u",
        "outputId": "c77552b4-3dce-4f90-fa3c-4021b15be86b"
      },
      "execution_count": null,
      "outputs": [
        {
          "output_type": "stream",
          "name": "stdout",
          "text": [
            "Insira um item [1] da lista : 1\n",
            "Insira um item [2] da lista : 0\n",
            "Insira um item [3] da lista : 9\n",
            "Insira um item [4] da lista : 8\n",
            "Insira um item [5] da lista : 7\n",
            "Soma de lista 25\n"
          ]
        }
      ]
    },
    {
      "cell_type": "code",
      "source": [
        "# Faça uma função que recebe uma lista de números e retorna a média aritmética dos elementos dessa lista.\n",
        "\n",
        "def media_lista (lista):\n",
        "  media = sum(lista) / len(lista)\n",
        "  return media\n",
        "\n",
        "\n",
        "lista = []\n",
        "for num in range(5):\n",
        " numeros = int(input(f\"Insira um item [{num+1}] da lista : \"))\n",
        " lista.append(numeros)\n",
        "\n",
        "print(\"Média de sua lista: \", media_lista(lista))\n"
      ],
      "metadata": {
        "colab": {
          "base_uri": "https://localhost:8080/"
        },
        "id": "bdfMZKlebgJe",
        "outputId": "28b7fd13-9fa0-4a71-cbc5-0fcc14318424"
      },
      "execution_count": null,
      "outputs": [
        {
          "output_type": "stream",
          "name": "stdout",
          "text": [
            "Insira um item [1] da lista : 12\n",
            "Insira um item [2] da lista : 23\n",
            "Insira um item [3] da lista : 34\n",
            "Insira um item [4] da lista : 45\n",
            "Insira um item [5] da lista : 56\n",
            "Média de sua lista:  34.0\n"
          ]
        }
      ]
    },
    {
      "cell_type": "code",
      "source": [
        "# Desafio 1 - Faça uma função que receba um número e calcule seu fatorial.\n",
        "\n",
        "def factorial (num_fatorial):\n",
        "  produto = 1\n",
        "  if num_fatorial == 0:\n",
        "    return produto\n",
        "  else:\n",
        "  # n! = n * (n-1) * ... * 1\n",
        "    for num in range(1, num_fatorial+1):\n",
        "      produto *= num\n",
        "    return produto\n",
        "\n",
        "print(factorial(8))"
      ],
      "metadata": {
        "colab": {
          "base_uri": "https://localhost:8080/"
        },
        "id": "heWccC2Dc2Zo",
        "outputId": "913d14c3-7ce0-44ac-e6ce-65de228b1336"
      },
      "execution_count": null,
      "outputs": [
        {
          "output_type": "stream",
          "name": "stdout",
          "text": [
            "8! : 1\n",
            "8! : 2\n",
            "8! : 6\n",
            "8! : 24\n",
            "8! : 120\n",
            "8! : 720\n",
            "8! : 5040\n",
            "8! : 40320\n",
            "40320\n"
          ]
        }
      ]
    },
    {
      "cell_type": "code",
      "source": [
        "'''Desafio 3 - A sequência Fibonacci é a sequência cujos dois primeiros termos são 1 e os demais são obtidos através da soma de seus dois antecessores, isso é:\n",
        "\n",
        "a. Fibonacci(1) = 1 e Fibonacci(2) = 2;\n",
        "\n",
        "b. dado qualquer número n >= 3, Fibonacci(n) = Fibonacci(n-1) + Fibonacci(n-2)\n",
        "\n",
        "Assim, os 10 primeiros termos da sequência Fibonacci são:\n",
        "\n",
        "1, 1, 2, 3, 5, 8, 13, 21, 34, 55…\n",
        "Faça uma função que receba um número n e calcule o termo de número n da sequência Fibonacci. '''\n",
        "\n",
        "def Fibonacci (num_f):\n",
        "  fibonacci = 0\n",
        "  F1 = 1\n",
        "  F2 = 1\n",
        "  if num_f == 1 or num_f == 2:\n",
        "    return F1\n",
        "  elif num_f >= 3:\n",
        "    for num in range(2, num_f):\n",
        "      fibonacci = F1 + F2\n",
        "      F2 = F1\n",
        "      F1 = fibonacci\n",
        "    return fibonacci\n",
        "   \n",
        "\n",
        "\n",
        "num = int(input(\"Digite um número: \"))\n",
        "if num >= 1:\n",
        "  F = Fibonacci(num)\n",
        "  print(F)\n",
        "else:\n",
        "  print(\"A entrada é inválida! Tente novamente.\")"
      ],
      "metadata": {
        "colab": {
          "base_uri": "https://localhost:8080/"
        },
        "id": "9x7SGQZSm7cz",
        "outputId": "363f5a4c-5441-4e84-8ef8-475516bb09af"
      },
      "execution_count": null,
      "outputs": [
        {
          "output_type": "stream",
          "name": "stdout",
          "text": [
            "Digite um número: 7\n",
            "13\n"
          ]
        }
      ]
    },
    {
      "cell_type": "code",
      "source": [
        "'''Recursão Fibonacci. '''\n",
        "\n",
        "def Fibonacci (num_f):\n",
        "  if num_f <= 1:\n",
        "    return num_f\n",
        "  elif num_f >= 2:      \n",
        "    return Fibonacci(num_f-1) + Fibonacci(num_f-2)\n",
        "   \n",
        "\n",
        "\n",
        "num = int(input(\"Digite um número: \"))\n",
        "if num >= 1:\n",
        "  F = Fibonacci(num)\n",
        "  print(F)\n",
        "else:\n",
        "  print(\"A entrada é inválida! Tente novamente.\")"
      ],
      "metadata": {
        "id": "njnXwfWlKKtX"
      },
      "execution_count": null,
      "outputs": []
    },
    {
      "cell_type": "code",
      "source": [
        "''' Super Desafio! - Repita o exercício anterior usando recursão, ou seja, \n",
        "uma função que chame ela mesma, lembrando que 3! = 3*2!, que 2! = 2*1!, que 1! = 1*0! e que 0! = 1.'''\n",
        "\n",
        "\n",
        "def factorial (num):\n",
        "  if num == 0:\n",
        "    return 1\n",
        "  elif num >= 1:      \n",
        "    return num * factorial(num-1)\n",
        "   \n",
        "\n",
        "\n",
        "num = int(input(\"Digite um número: \"))\n",
        "if num >= 0:\n",
        "  F = factorial(num)\n",
        "  print(F)\n",
        "else:\n",
        "  print(\"A entrada é inválida! Tente novamente.\")\n",
        "\n"
      ],
      "metadata": {
        "colab": {
          "base_uri": "https://localhost:8080/"
        },
        "id": "Y_JatWqu1ZJp",
        "outputId": "17169a0e-8f3b-4072-9216-96d4f0f13779"
      },
      "execution_count": null,
      "outputs": [
        {
          "output_type": "stream",
          "name": "stdout",
          "text": [
            "Digite um número: 4\n",
            "24\n"
          ]
        }
      ]
    },
    {
      "cell_type": "code",
      "source": [
        "'''Desafio 2 - Faça uma função que recebe duas entradas:\n",
        "um input dado pelo usuário e um string que informa o tipo de dado (\"idade\", \"salário\" ou \"sexo\"),\n",
        " e verifica se os dados digitados foram válidos, usando os seguintes critérios:\n",
        "\n",
        "a. Idade: entre 0 e 150;\n",
        "\n",
        "b. Salário: maior que 0;\n",
        "\n",
        "c. Sexo: M, F ou Outro.'''\n",
        "\n",
        "def valida_dados (tipo, dado):\n",
        "\n",
        "  if tipo == \"IDADE\" or (dado >= 0 and dado <= 150):\n",
        "      print(f\"Idade: {dado}\\n\")\n",
        "      return tipo, dado\n",
        "  elif (tipo == \"SALARIO\" or tipo == \"SALÁRIO\") or dado >= 0:\n",
        "      print(f\"Salário: R${dado}\\n\")\n",
        "      return tipo, dado\n",
        "  elif tipo == \"SEXO\" or dado == \"F\"  or dado == \"M\" or dado == \"OUTRO\":\n",
        "      print(f\"Sexo: {dado}\\n\")\n",
        "      return tipo, dado\n",
        "  else:\n",
        "      print(f\"Tente novamente! Os dados digitados estão inválidos.\\n\")\n",
        "\n",
        "tipo_dado = input(\"Informe o tipo de seus dados (idade, salário ou sexo): \").upper()\n",
        "\n",
        "seu_dado = input(\"Informe seus dados: \").upper()\n",
        "\n",
        "resultado = valida_dados(tipo_dado, seu_dado)\n",
        "print(resultado)\n"
      ],
      "metadata": {
        "colab": {
          "base_uri": "https://localhost:8080/"
        },
        "id": "nIYnTK6v8mgy",
        "outputId": "fed890a1-ca3a-42ee-c431-046cbc916070"
      },
      "execution_count": null,
      "outputs": [
        {
          "output_type": "stream",
          "name": "stdout",
          "text": [
            "Informe o tipo de seus dados (idade, salário ou sexo): idade\n",
            "Informe seus dados: 89\n",
            "Idade: 89\n",
            "\n",
            "('IDADE', '89')\n"
          ]
        }
      ]
    },
    {
      "cell_type": "code",
      "source": [
        "'''Super Desafio! - Faça um jogo de BlackJack usando funções: o BlackJack, ou Vinte e Um,\n",
        " é um jogo em que os jogadores podem comprar cartas livremente, enquanto tiverem menos de 21 pontos. \n",
        " No nosso jogo, o Ás vale um ponto; as cartas de 2 a 10 valem o número de pontos que elas representam;\n",
        " e Valete, Dama e Rei valem 10 pontos cada. Ganha o jogador que tiver o maior número de pontos, desde\n",
        " que este seja menor ou igual a 21. Nosso jogo deve ter as seguintes funções:\n",
        "\n",
        "a. Função principal: a função que vamos chamar para iniciar o jogo. Essa função não irá receber nem\n",
        "retornar nenhuma variável. Ela deve perguntar o número de jogadores participantes e o nome de cada um.\n",
        "Em seguida ela chama as outras funções do jogo.\n",
        "\n",
        "b. Função para criar o baralho: essa função deve criar um baralho (uma lista) com as cartas do baralho.\n",
        "\n",
        "c. Função para a jogada: essa função deve receber o nome do jogador que irá realizar a jogada e, caso\n",
        "ele ainda esteja ativo (tenha menos de 21 pontos e ainda não tenha desistido de comprar cartas) deve\n",
        "perguntar se ele quer comprar uma carta. Se ele responder que sim, a função deve chamar a próxima função\n",
        "para sortear uma carta e somar o valor retornado na pontuação do jogador; se ele responder que não, a\n",
        "função deve desativar o jogador para que ele não possa mais comprar cartas; Essa função só deve ser chamada\n",
        "enquanto houver jogadores ativos.\n",
        "\n",
        "d. Função para o sorteio: essa função retira uma carta aleatória do baralho e retorna o número de pontos que essa carta vale. \n",
        "\n",
        "e. Função verificação: verifica e indica qual/quais jogador/jogadores tem o maior número de pontos, que seja menor ou igual a 21. '''\n",
        "\n",
        "from random import random\n",
        "def start():\n",
        "  num_jogador = int(input(\"Informe o número de jogadores: \"))\n",
        "  jogadores = list()\n",
        "  for j in range(jogadores):\n",
        "    nome = input(f\"Informe o nome de jogador {j+1}: \").upper\n",
        "    jogadores.append(nome)\n",
        "\n",
        "  criar_baralho()\n",
        "\n",
        "  jogada()\n",
        "\n",
        "def criar_baralho():\n",
        "  \n",
        "\n",
        "def jogada(num):\n",
        "  if pontos < 21 or desistido_compra == False and num_jogadores_ativos >= 1:\n",
        "    compra = input(f\"Você quer comprar uma carta? (S ou N) \").upper\n",
        "    if compra == 'S':\n",
        "      sorteio()\n",
        "    else:\n",
        "      desistido_compra = True\n",
        "      num_jogadores_ativos -= 1\n",
        "\n",
        "\n",
        "def sorteio():\n",
        "  carta = random.randint(1,11)\n",
        "  return carta\n",
        "\n",
        "def verifica (jogadores):\n",
        "  jogadores"
      ],
      "metadata": {
        "id": "VTQ_6e9fCBh8"
      },
      "execution_count": null,
      "outputs": []
    },
    {
      "cell_type": "code",
      "source": [
        "import os\n",
        "import random\n",
        "\n",
        "deck = [2, 3, 4, 5, 6, 7, 8, 9, 10, 11, 12, 13, 14]*4\n",
        "\n",
        "def deal(deck):\n",
        "    hand = []\n",
        "    for i in range(2):\n",
        "\t    random.shuffle(deck)\n",
        "\t    card = deck.pop()\n",
        "\t    if card == 11:card = \"J\"\n",
        "\t    if card == 12:card = \"Q\"\n",
        "\t    if card == 13:card = \"K\"\n",
        "\t    if card == 14:card = \"A\"\n",
        "\t    hand.append(card)\n",
        "    return hand\n",
        "\n",
        "def play_again():\n",
        "    again = input(\"Do you want to play again? (Y/N) : \").lower()\n",
        "    if again == \"y\":\n",
        "\t    dealer_hand = []\n",
        "\t    player_hand = []\n",
        "\t    deck = [2, 3, 4, 5, 6, 7, 8, 9, 10, 11, 12, 13, 14]*4\n",
        "\t    game()\n",
        "    else:\n",
        "\t    print(\"Bye!\")\n",
        "\t    exit()\n",
        "\n",
        "def total(hand):\n",
        "    total = 0\n",
        "    for card in hand:\n",
        "\t    if card == \"J\" or card == \"Q\" or card == \"K\":\n",
        "\t        total+= 10\n",
        "\t    elif card == \"A\":\n",
        "\t        if total >= 11: total+= 1\n",
        "\t        else: total+= 11\n",
        "\t    else: total += card\n",
        "    return total\n",
        "\n",
        "def hit(hand):\n",
        "\tcard = deck.pop()\n",
        "\tif card == 11:card = \"J\"\n",
        "\tif card == 12:card = \"Q\"\n",
        "\tif card == 13:card = \"K\"\n",
        "\tif card == 14:card = \"A\"\n",
        "\thand.append(card)\n",
        "\treturn hand\n",
        "\n",
        "def clear():\n",
        "\tif os.name == 'nt':\n",
        "\t\tos.system('CLS')\n",
        "\tif os.name == 'posix':\n",
        "\t\tos.system('clear')\n",
        "\n",
        "def print_results(dealer_hand, player_hand):\n",
        "\tclear()\n",
        "\tprint (\"The dealer has a \" + str(dealer_hand) + \" for a total of \" + str(total(dealer_hand)))\n",
        "\tprint (\"You have a \" + str(player_hand) + \" for a total of \" + str(total(player_hand)))\n",
        "\n",
        "def blackjack(dealer_hand, player_hand):\n",
        "\tif total(player_hand) == 21:\n",
        "\t\tprint_results(dealer_hand, player_hand)\n",
        "\t\tprint (\"Congratulations! You got a Blackjack!\\n\")\n",
        "\t\tplay_again()\n",
        "\telif total(dealer_hand) == 21:\n",
        "\t\tprint_results(dealer_hand, player_hand)\t\t\n",
        "\t\tprint (\"Sorry, you lose. The dealer got a blackjack.\\n\")\n",
        "\t\tplay_again()\n",
        "\n",
        "def score(dealer_hand, player_hand):\n",
        "\tif total(player_hand) == 21:\n",
        "\t\tprint_results(dealer_hand, player_hand)\n",
        "\t\tprint (\"Congratulations! You got a Blackjack!\\n\")\n",
        "\telif total(dealer_hand) == 21:\n",
        "\t\tprint_results(dealer_hand, player_hand)\t\t\n",
        "\t\tprint (\"Sorry, you lose. The dealer got a blackjack.\\n\")\n",
        "\telif total(player_hand) > 21:\n",
        "\t\tprint_results(dealer_hand, player_hand)\n",
        "\t\tprint (\"Sorry. You busted. You lose.\\n\")\n",
        "\telif total(dealer_hand) > 21:\n",
        "\t\tprint_results(dealer_hand, player_hand)\t\t\t   \n",
        "\t\tprint (\"Dealer busts. You win!\\n\")\n",
        "\telif total(player_hand) < total(dealer_hand):\n",
        "\t\tprint_results(dealer_hand, player_hand)\n",
        "        #print (\"Sorry. Your score isn't higher than the dealer. You lose.\\n\")\n",
        "\telif total(player_hand) > total(dealer_hand):\n",
        "\t\tprint_results(dealer_hand, player_hand)\t\t\t   \n",
        "\t\tprint (\"Congratulations. Your score is higher than the dealer. You win\\n\")\t\t\n",
        "\n",
        "def game():\n",
        "\tchoice = 0\n",
        "\tclear()\n",
        "\tprint (\"WELCOME TO BLACKJACK!\\n\")\n",
        "\tdealer_hand = deal(deck)\n",
        "\tplayer_hand = deal(deck)\n",
        "\twhile choice != \"q\":\n",
        "\t\tprint (\"The dealer is showing a \" + str(dealer_hand[0]))\n",
        "\t\tprint (\"You have a \" + str(player_hand) + \" for a total of \" + str(total(player_hand)))\n",
        "\t\tblackjack(dealer_hand, player_hand)\n",
        "\t\tchoice = input(\"Do you want to [H]it, [S]tand, or [Q]uit: \").lower()\n",
        "\t\tclear()\n",
        "\t\tif choice == \"h\":\n",
        "\t\t\thit(player_hand)\n",
        "\t\t\twhile total(dealer_hand) < 17:\n",
        "\t\t\t\thit(dealer_hand)\n",
        "\t\t\tscore(dealer_hand, player_hand)\n",
        "\t\t\tplay_again()\n",
        "\t\telif choice == \"s\":\n",
        "\t\t\twhile total(dealer_hand) < 17:\n",
        "\t\t\t\thit(dealer_hand)\n",
        "\t\t\tscore(dealer_hand, player_hand)\n",
        "\t\t\tplay_again()\n",
        "\t\telif choice == \"q\":\n",
        "\t\t\tprint (\"Bye!\")\n",
        "\t\t\texit()\n",
        "\t\n",
        "if __name__ == \"__main__\":\n",
        "    game()"
      ],
      "metadata": {
        "colab": {
          "base_uri": "https://localhost:8080/",
          "height": 745
        },
        "id": "mit6UIL4Verw",
        "outputId": "ea963854-ed20-44ad-f3f2-c70a40857753"
      },
      "execution_count": null,
      "outputs": [
        {
          "output_type": "stream",
          "name": "stdout",
          "text": [
            "WELCOME TO BLACKJACK!\n",
            "\n",
            "The dealer is showing a Q\n",
            "You have a [3, 'J'] for a total of 13\n",
            "Do you want to [H]it, [S]tand, or [Q]uit: S\n",
            "The dealer has a ['Q', 7] for a total of 17\n",
            "You have a [3, 'J'] for a total of 13\n",
            "Do you want to play again? (Y/N) : Y\n",
            "WELCOME TO BLACKJACK!\n",
            "\n",
            "The dealer is showing a Q\n",
            "You have a ['K', 'Q'] for a total of 20\n",
            "Do you want to [H]it, [S]tand, or [Q]uit: S\n",
            "Do you want to play again? (Y/N) : Y\n",
            "WELCOME TO BLACKJACK!\n",
            "\n",
            "The dealer is showing a K\n",
            "You have a [2, 'A'] for a total of 13\n",
            "Do you want to [H]it, [S]tand, or [Q]uit: H\n",
            "The dealer has a ['K', 10] for a total of 20\n",
            "You have a [2, 'A', 8] for a total of 21\n",
            "Congratulations! You got a Blackjack!\n",
            "\n"
          ]
        },
        {
          "output_type": "error",
          "ename": "KeyboardInterrupt",
          "evalue": "ignored",
          "traceback": [
            "\u001b[0;31m---------------------------------------------------------------------------\u001b[0m",
            "\u001b[0;31mKeyboardInterrupt\u001b[0m                         Traceback (most recent call last)",
            "\u001b[0;32m<ipython-input-152-fefe9dcc7f00>\u001b[0m in \u001b[0;36m<module>\u001b[0;34m\u001b[0m\n\u001b[1;32m    116\u001b[0m \u001b[0;34m\u001b[0m\u001b[0m\n\u001b[1;32m    117\u001b[0m \u001b[0;32mif\u001b[0m \u001b[0m__name__\u001b[0m \u001b[0;34m==\u001b[0m \u001b[0;34m\"__main__\"\u001b[0m\u001b[0;34m:\u001b[0m\u001b[0;34m\u001b[0m\u001b[0;34m\u001b[0m\u001b[0m\n\u001b[0;32m--> 118\u001b[0;31m     \u001b[0mgame\u001b[0m\u001b[0;34m(\u001b[0m\u001b[0;34m)\u001b[0m\u001b[0;34m\u001b[0m\u001b[0;34m\u001b[0m\u001b[0m\n\u001b[0m",
            "\u001b[0;32m<ipython-input-152-fefe9dcc7f00>\u001b[0m in \u001b[0;36mgame\u001b[0;34m()\u001b[0m\n\u001b[1;32m    110\u001b[0m                                 \u001b[0mhit\u001b[0m\u001b[0;34m(\u001b[0m\u001b[0mdealer_hand\u001b[0m\u001b[0;34m)\u001b[0m\u001b[0;34m\u001b[0m\u001b[0;34m\u001b[0m\u001b[0m\n\u001b[1;32m    111\u001b[0m                         \u001b[0mscore\u001b[0m\u001b[0;34m(\u001b[0m\u001b[0mdealer_hand\u001b[0m\u001b[0;34m,\u001b[0m \u001b[0mplayer_hand\u001b[0m\u001b[0;34m)\u001b[0m\u001b[0;34m\u001b[0m\u001b[0;34m\u001b[0m\u001b[0m\n\u001b[0;32m--> 112\u001b[0;31m                         \u001b[0mplay_again\u001b[0m\u001b[0;34m(\u001b[0m\u001b[0;34m)\u001b[0m\u001b[0;34m\u001b[0m\u001b[0;34m\u001b[0m\u001b[0m\n\u001b[0m\u001b[1;32m    113\u001b[0m                 \u001b[0;32melif\u001b[0m \u001b[0mchoice\u001b[0m \u001b[0;34m==\u001b[0m \u001b[0;34m\"q\"\u001b[0m\u001b[0;34m:\u001b[0m\u001b[0;34m\u001b[0m\u001b[0;34m\u001b[0m\u001b[0m\n\u001b[1;32m    114\u001b[0m                         \u001b[0mprint\u001b[0m \u001b[0;34m(\u001b[0m\u001b[0;34m\"Bye!\"\u001b[0m\u001b[0;34m)\u001b[0m\u001b[0;34m\u001b[0m\u001b[0;34m\u001b[0m\u001b[0m\n",
            "\u001b[0;32m<ipython-input-152-fefe9dcc7f00>\u001b[0m in \u001b[0;36mplay_again\u001b[0;34m()\u001b[0m\n\u001b[1;32m     22\u001b[0m             \u001b[0mplayer_hand\u001b[0m \u001b[0;34m=\u001b[0m \u001b[0;34m[\u001b[0m\u001b[0;34m]\u001b[0m\u001b[0;34m\u001b[0m\u001b[0;34m\u001b[0m\u001b[0m\n\u001b[1;32m     23\u001b[0m             \u001b[0mdeck\u001b[0m \u001b[0;34m=\u001b[0m \u001b[0;34m[\u001b[0m\u001b[0;36m2\u001b[0m\u001b[0;34m,\u001b[0m \u001b[0;36m3\u001b[0m\u001b[0;34m,\u001b[0m \u001b[0;36m4\u001b[0m\u001b[0;34m,\u001b[0m \u001b[0;36m5\u001b[0m\u001b[0;34m,\u001b[0m \u001b[0;36m6\u001b[0m\u001b[0;34m,\u001b[0m \u001b[0;36m7\u001b[0m\u001b[0;34m,\u001b[0m \u001b[0;36m8\u001b[0m\u001b[0;34m,\u001b[0m \u001b[0;36m9\u001b[0m\u001b[0;34m,\u001b[0m \u001b[0;36m10\u001b[0m\u001b[0;34m,\u001b[0m \u001b[0;36m11\u001b[0m\u001b[0;34m,\u001b[0m \u001b[0;36m12\u001b[0m\u001b[0;34m,\u001b[0m \u001b[0;36m13\u001b[0m\u001b[0;34m,\u001b[0m \u001b[0;36m14\u001b[0m\u001b[0;34m]\u001b[0m\u001b[0;34m*\u001b[0m\u001b[0;36m4\u001b[0m\u001b[0;34m\u001b[0m\u001b[0;34m\u001b[0m\u001b[0m\n\u001b[0;32m---> 24\u001b[0;31m             \u001b[0mgame\u001b[0m\u001b[0;34m(\u001b[0m\u001b[0;34m)\u001b[0m\u001b[0;34m\u001b[0m\u001b[0;34m\u001b[0m\u001b[0m\n\u001b[0m\u001b[1;32m     25\u001b[0m     \u001b[0;32melse\u001b[0m\u001b[0;34m:\u001b[0m\u001b[0;34m\u001b[0m\u001b[0;34m\u001b[0m\u001b[0m\n\u001b[1;32m     26\u001b[0m             \u001b[0mprint\u001b[0m\u001b[0;34m(\u001b[0m\u001b[0;34m\"Bye!\"\u001b[0m\u001b[0;34m)\u001b[0m\u001b[0;34m\u001b[0m\u001b[0;34m\u001b[0m\u001b[0m\n",
            "\u001b[0;32m<ipython-input-152-fefe9dcc7f00>\u001b[0m in \u001b[0;36mgame\u001b[0;34m()\u001b[0m\n\u001b[1;32m    110\u001b[0m                                 \u001b[0mhit\u001b[0m\u001b[0;34m(\u001b[0m\u001b[0mdealer_hand\u001b[0m\u001b[0;34m)\u001b[0m\u001b[0;34m\u001b[0m\u001b[0;34m\u001b[0m\u001b[0m\n\u001b[1;32m    111\u001b[0m                         \u001b[0mscore\u001b[0m\u001b[0;34m(\u001b[0m\u001b[0mdealer_hand\u001b[0m\u001b[0;34m,\u001b[0m \u001b[0mplayer_hand\u001b[0m\u001b[0;34m)\u001b[0m\u001b[0;34m\u001b[0m\u001b[0;34m\u001b[0m\u001b[0m\n\u001b[0;32m--> 112\u001b[0;31m                         \u001b[0mplay_again\u001b[0m\u001b[0;34m(\u001b[0m\u001b[0;34m)\u001b[0m\u001b[0;34m\u001b[0m\u001b[0;34m\u001b[0m\u001b[0m\n\u001b[0m\u001b[1;32m    113\u001b[0m                 \u001b[0;32melif\u001b[0m \u001b[0mchoice\u001b[0m \u001b[0;34m==\u001b[0m \u001b[0;34m\"q\"\u001b[0m\u001b[0;34m:\u001b[0m\u001b[0;34m\u001b[0m\u001b[0;34m\u001b[0m\u001b[0m\n\u001b[1;32m    114\u001b[0m                         \u001b[0mprint\u001b[0m \u001b[0;34m(\u001b[0m\u001b[0;34m\"Bye!\"\u001b[0m\u001b[0;34m)\u001b[0m\u001b[0;34m\u001b[0m\u001b[0;34m\u001b[0m\u001b[0m\n",
            "\u001b[0;32m<ipython-input-152-fefe9dcc7f00>\u001b[0m in \u001b[0;36mplay_again\u001b[0;34m()\u001b[0m\n\u001b[1;32m     22\u001b[0m             \u001b[0mplayer_hand\u001b[0m \u001b[0;34m=\u001b[0m \u001b[0;34m[\u001b[0m\u001b[0;34m]\u001b[0m\u001b[0;34m\u001b[0m\u001b[0;34m\u001b[0m\u001b[0m\n\u001b[1;32m     23\u001b[0m             \u001b[0mdeck\u001b[0m \u001b[0;34m=\u001b[0m \u001b[0;34m[\u001b[0m\u001b[0;36m2\u001b[0m\u001b[0;34m,\u001b[0m \u001b[0;36m3\u001b[0m\u001b[0;34m,\u001b[0m \u001b[0;36m4\u001b[0m\u001b[0;34m,\u001b[0m \u001b[0;36m5\u001b[0m\u001b[0;34m,\u001b[0m \u001b[0;36m6\u001b[0m\u001b[0;34m,\u001b[0m \u001b[0;36m7\u001b[0m\u001b[0;34m,\u001b[0m \u001b[0;36m8\u001b[0m\u001b[0;34m,\u001b[0m \u001b[0;36m9\u001b[0m\u001b[0;34m,\u001b[0m \u001b[0;36m10\u001b[0m\u001b[0;34m,\u001b[0m \u001b[0;36m11\u001b[0m\u001b[0;34m,\u001b[0m \u001b[0;36m12\u001b[0m\u001b[0;34m,\u001b[0m \u001b[0;36m13\u001b[0m\u001b[0;34m,\u001b[0m \u001b[0;36m14\u001b[0m\u001b[0;34m]\u001b[0m\u001b[0;34m*\u001b[0m\u001b[0;36m4\u001b[0m\u001b[0;34m\u001b[0m\u001b[0;34m\u001b[0m\u001b[0m\n\u001b[0;32m---> 24\u001b[0;31m             \u001b[0mgame\u001b[0m\u001b[0;34m(\u001b[0m\u001b[0;34m)\u001b[0m\u001b[0;34m\u001b[0m\u001b[0;34m\u001b[0m\u001b[0m\n\u001b[0m\u001b[1;32m     25\u001b[0m     \u001b[0;32melse\u001b[0m\u001b[0;34m:\u001b[0m\u001b[0;34m\u001b[0m\u001b[0;34m\u001b[0m\u001b[0m\n\u001b[1;32m     26\u001b[0m             \u001b[0mprint\u001b[0m\u001b[0;34m(\u001b[0m\u001b[0;34m\"Bye!\"\u001b[0m\u001b[0;34m)\u001b[0m\u001b[0;34m\u001b[0m\u001b[0;34m\u001b[0m\u001b[0m\n",
            "\u001b[0;32m<ipython-input-152-fefe9dcc7f00>\u001b[0m in \u001b[0;36mgame\u001b[0;34m()\u001b[0m\n\u001b[1;32m    105\u001b[0m                                 \u001b[0mhit\u001b[0m\u001b[0;34m(\u001b[0m\u001b[0mdealer_hand\u001b[0m\u001b[0;34m)\u001b[0m\u001b[0;34m\u001b[0m\u001b[0;34m\u001b[0m\u001b[0m\n\u001b[1;32m    106\u001b[0m                         \u001b[0mscore\u001b[0m\u001b[0;34m(\u001b[0m\u001b[0mdealer_hand\u001b[0m\u001b[0;34m,\u001b[0m \u001b[0mplayer_hand\u001b[0m\u001b[0;34m)\u001b[0m\u001b[0;34m\u001b[0m\u001b[0;34m\u001b[0m\u001b[0m\n\u001b[0;32m--> 107\u001b[0;31m                         \u001b[0mplay_again\u001b[0m\u001b[0;34m(\u001b[0m\u001b[0;34m)\u001b[0m\u001b[0;34m\u001b[0m\u001b[0;34m\u001b[0m\u001b[0m\n\u001b[0m\u001b[1;32m    108\u001b[0m                 \u001b[0;32melif\u001b[0m \u001b[0mchoice\u001b[0m \u001b[0;34m==\u001b[0m \u001b[0;34m\"s\"\u001b[0m\u001b[0;34m:\u001b[0m\u001b[0;34m\u001b[0m\u001b[0;34m\u001b[0m\u001b[0m\n\u001b[1;32m    109\u001b[0m                         \u001b[0;32mwhile\u001b[0m \u001b[0mtotal\u001b[0m\u001b[0;34m(\u001b[0m\u001b[0mdealer_hand\u001b[0m\u001b[0;34m)\u001b[0m \u001b[0;34m<\u001b[0m \u001b[0;36m17\u001b[0m\u001b[0;34m:\u001b[0m\u001b[0;34m\u001b[0m\u001b[0;34m\u001b[0m\u001b[0m\n",
            "\u001b[0;32m<ipython-input-152-fefe9dcc7f00>\u001b[0m in \u001b[0;36mplay_again\u001b[0;34m()\u001b[0m\n\u001b[1;32m     17\u001b[0m \u001b[0;34m\u001b[0m\u001b[0m\n\u001b[1;32m     18\u001b[0m \u001b[0;32mdef\u001b[0m \u001b[0mplay_again\u001b[0m\u001b[0;34m(\u001b[0m\u001b[0;34m)\u001b[0m\u001b[0;34m:\u001b[0m\u001b[0;34m\u001b[0m\u001b[0;34m\u001b[0m\u001b[0m\n\u001b[0;32m---> 19\u001b[0;31m     \u001b[0magain\u001b[0m \u001b[0;34m=\u001b[0m \u001b[0minput\u001b[0m\u001b[0;34m(\u001b[0m\u001b[0;34m\"Do you want to play again? (Y/N) : \"\u001b[0m\u001b[0;34m)\u001b[0m\u001b[0;34m.\u001b[0m\u001b[0mlower\u001b[0m\u001b[0;34m(\u001b[0m\u001b[0;34m)\u001b[0m\u001b[0;34m\u001b[0m\u001b[0;34m\u001b[0m\u001b[0m\n\u001b[0m\u001b[1;32m     20\u001b[0m     \u001b[0;32mif\u001b[0m \u001b[0magain\u001b[0m \u001b[0;34m==\u001b[0m \u001b[0;34m\"y\"\u001b[0m\u001b[0;34m:\u001b[0m\u001b[0;34m\u001b[0m\u001b[0;34m\u001b[0m\u001b[0m\n\u001b[1;32m     21\u001b[0m             \u001b[0mdealer_hand\u001b[0m \u001b[0;34m=\u001b[0m \u001b[0;34m[\u001b[0m\u001b[0;34m]\u001b[0m\u001b[0;34m\u001b[0m\u001b[0;34m\u001b[0m\u001b[0m\n",
            "\u001b[0;32m/usr/local/lib/python3.7/dist-packages/ipykernel/kernelbase.py\u001b[0m in \u001b[0;36mraw_input\u001b[0;34m(self, prompt)\u001b[0m\n\u001b[1;32m    861\u001b[0m             \u001b[0mself\u001b[0m\u001b[0;34m.\u001b[0m\u001b[0m_parent_ident\u001b[0m\u001b[0;34m,\u001b[0m\u001b[0;34m\u001b[0m\u001b[0;34m\u001b[0m\u001b[0m\n\u001b[1;32m    862\u001b[0m             \u001b[0mself\u001b[0m\u001b[0;34m.\u001b[0m\u001b[0m_parent_header\u001b[0m\u001b[0;34m,\u001b[0m\u001b[0;34m\u001b[0m\u001b[0;34m\u001b[0m\u001b[0m\n\u001b[0;32m--> 863\u001b[0;31m             \u001b[0mpassword\u001b[0m\u001b[0;34m=\u001b[0m\u001b[0;32mFalse\u001b[0m\u001b[0;34m,\u001b[0m\u001b[0;34m\u001b[0m\u001b[0;34m\u001b[0m\u001b[0m\n\u001b[0m\u001b[1;32m    864\u001b[0m         )\n\u001b[1;32m    865\u001b[0m \u001b[0;34m\u001b[0m\u001b[0m\n",
            "\u001b[0;32m/usr/local/lib/python3.7/dist-packages/ipykernel/kernelbase.py\u001b[0m in \u001b[0;36m_input_request\u001b[0;34m(self, prompt, ident, parent, password)\u001b[0m\n\u001b[1;32m    902\u001b[0m             \u001b[0;32mexcept\u001b[0m \u001b[0mKeyboardInterrupt\u001b[0m\u001b[0;34m:\u001b[0m\u001b[0;34m\u001b[0m\u001b[0;34m\u001b[0m\u001b[0m\n\u001b[1;32m    903\u001b[0m                 \u001b[0;31m# re-raise KeyboardInterrupt, to truncate traceback\u001b[0m\u001b[0;34m\u001b[0m\u001b[0;34m\u001b[0m\u001b[0;34m\u001b[0m\u001b[0m\n\u001b[0;32m--> 904\u001b[0;31m                 \u001b[0;32mraise\u001b[0m \u001b[0mKeyboardInterrupt\u001b[0m\u001b[0;34m(\u001b[0m\u001b[0;34m\"Interrupted by user\"\u001b[0m\u001b[0;34m)\u001b[0m \u001b[0;32mfrom\u001b[0m \u001b[0;32mNone\u001b[0m\u001b[0;34m\u001b[0m\u001b[0;34m\u001b[0m\u001b[0m\n\u001b[0m\u001b[1;32m    905\u001b[0m             \u001b[0;32mexcept\u001b[0m \u001b[0mException\u001b[0m \u001b[0;32mas\u001b[0m \u001b[0me\u001b[0m\u001b[0;34m:\u001b[0m\u001b[0;34m\u001b[0m\u001b[0;34m\u001b[0m\u001b[0m\n\u001b[1;32m    906\u001b[0m                 \u001b[0mself\u001b[0m\u001b[0;34m.\u001b[0m\u001b[0mlog\u001b[0m\u001b[0;34m.\u001b[0m\u001b[0mwarning\u001b[0m\u001b[0;34m(\u001b[0m\u001b[0;34m\"Invalid Message:\"\u001b[0m\u001b[0;34m,\u001b[0m \u001b[0mexc_info\u001b[0m\u001b[0;34m=\u001b[0m\u001b[0;32mTrue\u001b[0m\u001b[0;34m)\u001b[0m\u001b[0;34m\u001b[0m\u001b[0;34m\u001b[0m\u001b[0m\n",
            "\u001b[0;31mKeyboardInterrupt\u001b[0m: Interrupted by user"
          ]
        }
      ]
    },
    {
      "cell_type": "code",
      "source": [
        "'''Super desafio! Faça um sistema de cadastro de clientes. Modele cada cliente como uma lista de três elementos: nome, CPF e e-mail.\n",
        "\n",
        "a. Faça uma função que peça o nome, o CPF e o e-mail da pessoa e retorne uma lista contendo esses elementos nessa ordem.\n",
        "\n",
        "b. Os clientes cadastrados devem ser armazenados em uma lista (uma lista de listas, já que cada cliente será uma lista tal como produzido no item a).\n",
        "\n",
        "c. Faça uma função que recebe a lista do item b) e um CPF e, se esse cliente estiver na lista de cadastro,\n",
        "sua função deve devolver a lista de dados desse cliente; caso contrário, sua função deve imprimir “não encontrado”.\n",
        "\n",
        "d. Enquanto não for digitado 0, o seu programa deve continuar rodando. Se digitado 1, seu programa deve cadastrar um novo cliente;\n",
        "se digitado 2, seu programa deve pedir um CPF e procurá-lo na lista de clientes (item c);\n",
        "se digitado 3, seu programa deve imprimir todos os clientes cadastrados.'''\n",
        "\n",
        "lista_clientes = []\n",
        "\n",
        "def inserir_cliente():\n",
        "  nome = input(\"Nome: \")\n",
        "  CPF = int(input(\"CPF: \"))\n",
        "  email = input(\"Email: \")\n",
        "  cliente = (nome, CPF, email)\n",
        "  lista_clientes.append(cliente)\n",
        "\n",
        "  return lista_clientes\n",
        "\n",
        "def busca_cliente(CPF):\n",
        "  \n",
        "  for cliente in lista_clientes:\n",
        "    if CPF in cliente:\n",
        "        try:\n",
        "            print(\"Nome: %s - CPF: %s - email: %s\"%(cliente[0][1],cliente[0][1],cliente[0][2]))\n",
        "        except:\n",
        "            print(\"Essa pessoa não possui algum dos valores a seguir: Nome, CPF, email\")\n",
        "\n",
        "def listar_clientes(lista_clientes):\n",
        "  for cliente in lista_clientes:\n",
        "    print(f'Nome: {nome}, CPF: {CPF}, email: {email}')\n",
        "\n",
        "def menu():\n",
        "  print('''Escolha uma opção:\n",
        "\n",
        "    [1] Cadastro um novo cliente\n",
        "    [2] Busca um CPF na lista de clientes\n",
        "    [3] Impresso todos os clientes cadastrados\n",
        "    ''')\n",
        "  \n",
        "\n",
        "\n",
        "while True:\n",
        "  menu()\n",
        "  escolhe = int(input())\n",
        "  \n",
        "  if escolhe == 1:\n",
        "    inserir_cliente()\n",
        "  \n",
        "  elif escolhe == 2:\n",
        "    CPF = input(\"CPF?\")\n",
        "    busca_cliente(CPF)\n",
        "\n",
        "  elif escolhe == 3:\n",
        "    listar_clientes(lista_clientes)\n",
        "\n",
        "  elif escolhe == 0:\n",
        "    break\n",
        "\n",
        "  else:\n",
        "    print('Opção inválida')\n",
        "\n"
      ],
      "metadata": {
        "colab": {
          "base_uri": "https://localhost:8080/",
          "height": 606
        },
        "id": "PTYxsOeHWPVC",
        "outputId": "5f44cadb-678b-4cf3-84f8-b59d989af40e"
      },
      "execution_count": null,
      "outputs": [
        {
          "output_type": "stream",
          "name": "stdout",
          "text": [
            "Escolha uma opção:\n",
            "\n",
            "    [1] Cadastro um novo cliente\n",
            "    [2] Busca um CPF na lista de clientes\n",
            "    [3] Impresso todos os clientes cadastrados\n",
            "    \n",
            "3\n",
            "Escolha uma opção:\n",
            "\n",
            "    [1] Cadastro um novo cliente\n",
            "    [2] Busca um CPF na lista de clientes\n",
            "    [3] Impresso todos os clientes cadastrados\n",
            "    \n"
          ]
        },
        {
          "output_type": "error",
          "ename": "KeyboardInterrupt",
          "evalue": "ignored",
          "traceback": [
            "\u001b[0;31m---------------------------------------------------------------------------\u001b[0m",
            "\u001b[0;31mKeyboardInterrupt\u001b[0m                         Traceback (most recent call last)",
            "\u001b[0;32m<ipython-input-192-fb970e48add1>\u001b[0m in \u001b[0;36m<module>\u001b[0;34m\u001b[0m\n\u001b[1;32m     48\u001b[0m \u001b[0;32mwhile\u001b[0m \u001b[0;32mTrue\u001b[0m\u001b[0;34m:\u001b[0m\u001b[0;34m\u001b[0m\u001b[0;34m\u001b[0m\u001b[0m\n\u001b[1;32m     49\u001b[0m   \u001b[0mmenu\u001b[0m\u001b[0;34m(\u001b[0m\u001b[0;34m)\u001b[0m\u001b[0;34m\u001b[0m\u001b[0;34m\u001b[0m\u001b[0m\n\u001b[0;32m---> 50\u001b[0;31m   \u001b[0mescolhe\u001b[0m \u001b[0;34m=\u001b[0m \u001b[0mint\u001b[0m\u001b[0;34m(\u001b[0m\u001b[0minput\u001b[0m\u001b[0;34m(\u001b[0m\u001b[0;34m)\u001b[0m\u001b[0;34m)\u001b[0m\u001b[0;34m\u001b[0m\u001b[0;34m\u001b[0m\u001b[0m\n\u001b[0m\u001b[1;32m     51\u001b[0m \u001b[0;34m\u001b[0m\u001b[0m\n\u001b[1;32m     52\u001b[0m   \u001b[0;32mif\u001b[0m \u001b[0mescolhe\u001b[0m \u001b[0;34m==\u001b[0m \u001b[0;36m1\u001b[0m\u001b[0;34m:\u001b[0m\u001b[0;34m\u001b[0m\u001b[0;34m\u001b[0m\u001b[0m\n",
            "\u001b[0;32m/usr/local/lib/python3.7/dist-packages/ipykernel/kernelbase.py\u001b[0m in \u001b[0;36mraw_input\u001b[0;34m(self, prompt)\u001b[0m\n\u001b[1;32m    861\u001b[0m             \u001b[0mself\u001b[0m\u001b[0;34m.\u001b[0m\u001b[0m_parent_ident\u001b[0m\u001b[0;34m,\u001b[0m\u001b[0;34m\u001b[0m\u001b[0;34m\u001b[0m\u001b[0m\n\u001b[1;32m    862\u001b[0m             \u001b[0mself\u001b[0m\u001b[0;34m.\u001b[0m\u001b[0m_parent_header\u001b[0m\u001b[0;34m,\u001b[0m\u001b[0;34m\u001b[0m\u001b[0;34m\u001b[0m\u001b[0m\n\u001b[0;32m--> 863\u001b[0;31m             \u001b[0mpassword\u001b[0m\u001b[0;34m=\u001b[0m\u001b[0;32mFalse\u001b[0m\u001b[0;34m,\u001b[0m\u001b[0;34m\u001b[0m\u001b[0;34m\u001b[0m\u001b[0m\n\u001b[0m\u001b[1;32m    864\u001b[0m         )\n\u001b[1;32m    865\u001b[0m \u001b[0;34m\u001b[0m\u001b[0m\n",
            "\u001b[0;32m/usr/local/lib/python3.7/dist-packages/ipykernel/kernelbase.py\u001b[0m in \u001b[0;36m_input_request\u001b[0;34m(self, prompt, ident, parent, password)\u001b[0m\n\u001b[1;32m    902\u001b[0m             \u001b[0;32mexcept\u001b[0m \u001b[0mKeyboardInterrupt\u001b[0m\u001b[0;34m:\u001b[0m\u001b[0;34m\u001b[0m\u001b[0;34m\u001b[0m\u001b[0m\n\u001b[1;32m    903\u001b[0m                 \u001b[0;31m# re-raise KeyboardInterrupt, to truncate traceback\u001b[0m\u001b[0;34m\u001b[0m\u001b[0;34m\u001b[0m\u001b[0;34m\u001b[0m\u001b[0m\n\u001b[0;32m--> 904\u001b[0;31m                 \u001b[0;32mraise\u001b[0m \u001b[0mKeyboardInterrupt\u001b[0m\u001b[0;34m(\u001b[0m\u001b[0;34m\"Interrupted by user\"\u001b[0m\u001b[0;34m)\u001b[0m \u001b[0;32mfrom\u001b[0m \u001b[0;32mNone\u001b[0m\u001b[0;34m\u001b[0m\u001b[0;34m\u001b[0m\u001b[0m\n\u001b[0m\u001b[1;32m    905\u001b[0m             \u001b[0;32mexcept\u001b[0m \u001b[0mException\u001b[0m \u001b[0;32mas\u001b[0m \u001b[0me\u001b[0m\u001b[0;34m:\u001b[0m\u001b[0;34m\u001b[0m\u001b[0;34m\u001b[0m\u001b[0m\n\u001b[1;32m    906\u001b[0m                 \u001b[0mself\u001b[0m\u001b[0;34m.\u001b[0m\u001b[0mlog\u001b[0m\u001b[0;34m.\u001b[0m\u001b[0mwarning\u001b[0m\u001b[0;34m(\u001b[0m\u001b[0;34m\"Invalid Message:\"\u001b[0m\u001b[0;34m,\u001b[0m \u001b[0mexc_info\u001b[0m\u001b[0;34m=\u001b[0m\u001b[0;32mTrue\u001b[0m\u001b[0;34m)\u001b[0m\u001b[0;34m\u001b[0m\u001b[0;34m\u001b[0m\u001b[0m\n",
            "\u001b[0;31mKeyboardInterrupt\u001b[0m: Interrupted by user"
          ]
        }
      ]
    }
  ],
  "metadata": {
    "colab": {
      "name": "LC | Funções.ipynb",
      "provenance": [],
      "collapsed_sections": [],
      "authorship_tag": "ABX9TyOibRJiwfKYSV6ArzS1W/tL"
    },
    "kernelspec": {
      "display_name": "Python 3",
      "name": "python3"
    },
    "language_info": {
      "name": "python"
    }
  },
  "nbformat": 4,
  "nbformat_minor": 0
}