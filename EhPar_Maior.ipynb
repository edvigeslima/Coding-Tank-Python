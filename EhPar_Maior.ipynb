{
  "nbformat": 4,
  "nbformat_minor": 0,
  "metadata": {
    "colab": {
      "name": "EhPar_Maior.ipynb",
      "provenance": [],
      "authorship_tag": "ABX9TyO3A6NCHK/U2nCcAjyn75sU"
    },
    "kernelspec": {
      "name": "python3",
      "display_name": "Python 3"
    },
    "language_info": {
      "name": "python"
    }
  },
  "cells": [
    {
      "cell_type": "code",
      "execution_count": null,
      "metadata": {
        "colab": {
          "base_uri": "https://localhost:8080/"
        },
        "id": "RZbzCvw1TCNb",
        "outputId": "3cd32651-5e15-458c-effb-f39cecd28d67"
      },
      "outputs": [
        {
          "output_type": "stream",
          "name": "stdout",
          "text": [
            "Digite um número: 100\n",
            "\n",
            "O número 100 é par.\n",
            "\n",
            "O número 100 é igual que 100.\n",
            "\n"
          ]
        }
      ],
      "source": [
        "\n",
        "# Considere um programa que deve classificar um número como par ou ímpar\n",
        "# e, além disso, classificar ele como menor do que 100 ou maior ou igual a 100.\n",
        "# Escreva um programa que faça essa classificação corretamente.\n",
        "\n",
        "numero = int(input(\"Digite um número: \"))\n",
        "\n",
        "if numero%2 == 0:\n",
        "  print(f\"\\nO número {numero} é par.\", end=\"\\n\\n\")\n",
        "else:\n",
        "  print(f\"\\nO número {numero} é ímpar.\", end=\"\\n\\n\")\n",
        "\n",
        "if numero == 100:\n",
        "  print(f\"O número {numero} é igual a 100.\", end=\"\\n\\n\")\n",
        "elif numero > 100:\n",
        "  print(f\"O número {numero} é maior do que 100.\", end=\"\\n\\n\")\n",
        "else:\n",
        "  print(f\"O número {numero} é menor do que 100.\", end=\"\\n\\n\")"
      ]
    }
  ]
}