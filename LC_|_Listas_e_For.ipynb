{
  "nbformat": 4,
  "nbformat_minor": 0,
  "metadata": {
    "colab": {
      "name": "LC | Listas e For.ipynb",
      "provenance": [],
      "collapsed_sections": [],
      "authorship_tag": "ABX9TyPLKt5BxPP4S7saQFMauLZF"
    },
    "kernelspec": {
      "name": "python3",
      "display_name": "Python 3"
    },
    "language_info": {
      "name": "python"
    }
  },
  "cells": [
    {
      "cell_type": "code",
      "execution_count": null,
      "metadata": {
        "colab": {
          "base_uri": "https://localhost:8080/"
        },
        "id": "fnTG0lW19yOy",
        "outputId": "9e14fb52-87e9-4aaf-8ddf-8499b13539eb"
      },
      "outputs": [
        {
          "output_type": "stream",
          "name": "stdout",
          "text": [
            "0\n",
            "2\n",
            "4\n",
            "6\n",
            "8\n"
          ]
        }
      ],
      "source": [
        "# Crie uma lista qualquer e faça um programa que imprima cada elemento da lista usando o for.\n",
        "\n",
        "lista = list(range(0,10,2))\n",
        "for l in lista:\n",
        "\tprint(l)"
      ]
    },
    {
      "cell_type": "code",
      "source": [
        "# Faça um programa que imprima todos os itens de uma lista usando while e compare com o exercício 1.\n",
        "\n",
        "lista = list(range(0,10,2))\n",
        "\n",
        "count = 0\n",
        "while count < len(lista):\n",
        "  print(lista[count])\n",
        "  count += 1"
      ],
      "metadata": {
        "colab": {
          "base_uri": "https://localhost:8080/"
        },
        "id": "aWgqx6U4-SxN",
        "outputId": "13839110-39b8-4638-c87c-4cf0ac8aacac"
      },
      "execution_count": null,
      "outputs": [
        {
          "output_type": "stream",
          "name": "stdout",
          "text": [
            "0\n",
            "2\n",
            "4\n",
            "6\n",
            "8\n"
          ]
        }
      ]
    },
    {
      "cell_type": "code",
      "source": [
        "# Faça um programa que peça para o usuário digitar um número n e imprima uma lista com todos os números de 0 a n-1.\n",
        "\n",
        "# Exemplo: se o usuário digitar 5, o programa deve imprimir [0, 1, 2, 3, 4]\n",
        "\n",
        "n = int(input(\"Digite um número: \"))\n",
        "\n",
        "lista = list(range(0,n))\n",
        "\n",
        "print(lista)"
      ],
      "metadata": {
        "colab": {
          "base_uri": "https://localhost:8080/"
        },
        "id": "-82eOcsv_tVN",
        "outputId": "52dc21d3-d289-4108-b3a7-7857b7711920"
      },
      "execution_count": 1,
      "outputs": [
        {
          "output_type": "stream",
          "name": "stdout",
          "text": [
            "Digite um número: 5\n",
            "[0, 1, 2, 3, 4]\n"
          ]
        }
      ]
    },
    {
      "cell_type": "code",
      "source": [
        "# Faça um programa que olhe todos os itens de uma lista e diga quantos deles são pares.\n",
        "\n",
        "from random import randrange\n",
        "\n",
        "lista = list()\n",
        "count = 0\n",
        "\n",
        "for l in range(11):\n",
        "  x = randrange(0, 100)\n",
        "  lista.append(x)\n",
        "print(lista)\n",
        "\n",
        "for l in lista:\n",
        "  if l%2 == 0:\n",
        "   count += 1\n",
        "print(count)\n"
      ],
      "metadata": {
        "colab": {
          "base_uri": "https://localhost:8080/"
        },
        "id": "h6s493DoASrk",
        "outputId": "f9ad5c7c-e912-4645-d840-45873c34a029"
      },
      "execution_count": null,
      "outputs": [
        {
          "output_type": "stream",
          "name": "stdout",
          "text": [
            "[65, 27, 62, 46, 61, 34, 39, 29, 5, 46, 56]\n",
            "5\n"
          ]
        }
      ]
    },
    {
      "cell_type": "code",
      "source": [
        "# Agora usando a função max() faça um programa que imprima os três maiores números de uma lista.\n",
        "\n",
        "# Dica: Use o método próprio de listas .remove().\n",
        "\n",
        "lista_1 = [30, 35, 73, 62, 77, 38, 47, 62, 38, 38, 87]\n",
        "maximo = []\n",
        "n = 0\n",
        "while n < 3:\n",
        "  maximo.append(max(lista_1))\n",
        "  print(maximo)\n",
        "  lista_1.remove(maximo[n])\n",
        "  print(lista_1)\n",
        "  n += 1"
      ],
      "metadata": {
        "colab": {
          "base_uri": "https://localhost:8080/"
        },
        "id": "IyROuVN8HUUA",
        "outputId": "5afdc7f6-ad96-47ab-c6a4-8c04eb164070"
      },
      "execution_count": null,
      "outputs": [
        {
          "output_type": "stream",
          "name": "stdout",
          "text": [
            "[87]\n",
            "[30, 35, 73, 62, 77, 38, 47, 62, 38, 38]\n",
            "[87, 77]\n",
            "[30, 35, 73, 62, 38, 47, 62, 38, 38]\n",
            "[87, 77, 73]\n",
            "[30, 35, 62, 38, 47, 62, 38, 38]\n"
          ]
        }
      ]
    },
    {
      "cell_type": "code",
      "source": [
        "# Faça um programa que imprima o maior número de uma lista, sem usar a função max().\n",
        "\n",
        "lista_1 = [30, 35, 73, 62, 77, 38, 47, 62, 38, 38, 87]\n",
        "aux = 0\n",
        "for n in lista:\n",
        "  if n >= aux:\n",
        "    aux = n\n",
        "  print(aux)"
      ],
      "metadata": {
        "colab": {
          "base_uri": "https://localhost:8080/"
        },
        "id": "gY9iXEnMJzYJ",
        "outputId": "e69c4951-fa5f-4a81-ac72-c3e7d8045c5f"
      },
      "execution_count": null,
      "outputs": [
        {
          "output_type": "stream",
          "name": "stdout",
          "text": [
            "30\n",
            "35\n",
            "73\n",
            "77\n",
            "87\n"
          ]
        }
      ]
    },
    {
      "cell_type": "code",
      "source": [
        "''' Faça um programa que, dadas duas listas de mesmo tamanho, crie uma nova lista\n",
        " com cada elemento igual a soma dos elementos da lista 1 com os da lista 2, na mesma posição.\n",
        "\n",
        "Exemplo:\n",
        "\n",
        "Dadas lista1 = [1, 4, 5] e lista2 = [2, 2, 3], então lista3 = [1+2, 4+2, 5+3] = [3, 6, 8]'''\n",
        "\n",
        "l1 = [1, 4, 5]\n",
        "l2 = [2, 2, 3]\n",
        "l3 = []\n",
        "\n",
        "for l in range(len(l1)):\n",
        "  l3.append(l1[l] + l2[l])\n",
        "print(l3)"
      ],
      "metadata": {
        "colab": {
          "base_uri": "https://localhost:8080/"
        },
        "id": "lMgKnP2zMxHh",
        "outputId": "429adc2e-a70b-4db7-8825-072057455a8b"
      },
      "execution_count": null,
      "outputs": [
        {
          "output_type": "stream",
          "name": "stdout",
          "text": [
            "[3, 6, 8]\n"
          ]
        }
      ]
    },
    {
      "cell_type": "code",
      "source": [
        "'''Faça um programa que pede para o usuário digitar 5 números e, ao final, imprime uma lista com os 5 números digitados pelo usuário (sem converter os números para int ou float).\n",
        "\n",
        "Exemplo: Se o usuário digitar 1, 5, 2, 3, 6, o programa deve imprimir a lista ['1','5','2','3','6']'''\n",
        "\n",
        "elemento = input(\"Digite 5 números com espaçamento: \")\n",
        "nova_lista = elemento.split()\n",
        "print(nova_lista)"
      ],
      "metadata": {
        "colab": {
          "base_uri": "https://localhost:8080/"
        },
        "id": "IUq7UrOKOXmL",
        "outputId": "1c5179ee-4b8f-4e08-88d8-a8a199cc7bfb"
      },
      "execution_count": null,
      "outputs": [
        {
          "output_type": "stream",
          "name": "stdout",
          "text": [
            "Digite 5 números com espaçamento: 12 45 23 45 1\n",
            "['12', '45', '23', '45', '1']\n"
          ]
        }
      ]
    },
    {
      "cell_type": "code",
      "source": [
        "'''Pegue a lista gerada no exercício anterior e transforme cada um dos itens dessa lista em um float.\n",
        "\n",
        "OBS: Não é para alterar o programa anterior, mas sim a lista gerada por ele.'''\n",
        "nova_lista = ['12', '45', '23', '45', '1']\n",
        "[float(l) for l in nova_lista]\n",
        "print(nova_lista)"
      ],
      "metadata": {
        "colab": {
          "base_uri": "https://localhost:8080/"
        },
        "id": "erK5HfK2QBun",
        "outputId": "de126e5f-e5dc-44a5-db95-3e8d98d94fcf"
      },
      "execution_count": null,
      "outputs": [
        {
          "output_type": "stream",
          "name": "stdout",
          "text": [
            "['12', '45', '23', '45', '1']\n"
          ]
        }
      ]
    },
    {
      "cell_type": "code",
      "source": [
        "# Faça um programa que peça as 4 notas bimestrais e mostre a média aritmética delas, usando listas.\n",
        "\n",
        "num = 0\n",
        "notas = []\n",
        "while num < 4:\n",
        "  nota = float(input(f\"Digite a {num+1}º nota: \"))\n",
        "  notas.append(nota)\n",
        "  num += 1\n",
        "print(notas)\n",
        "\n",
        "media = sum(notas) / 4\n",
        "print(round(media))\n",
        "\n"
      ],
      "metadata": {
        "colab": {
          "base_uri": "https://localhost:8080/"
        },
        "id": "R6Df00BDTQwt",
        "outputId": "7d79ccd6-7f0d-4aca-a76a-49319596dfa3"
      },
      "execution_count": null,
      "outputs": [
        {
          "output_type": "stream",
          "name": "stdout",
          "text": [
            "Digite a 1º nota: 10\n",
            "Digite a 2º nota: 9.7\n",
            "Digite a 3º nota: 5.6\n",
            "Digite a 4º nota: 4.9\n",
            "[10.0, 9.7, 5.6, 4.9]\n",
            "7.549999999999999\n"
          ]
        }
      ]
    },
    {
      "cell_type": "code",
      "source": [
        "'''Crie uma lista de 10 números e imprima:\n",
        "\n",
        "a. uma lista com os 4 primeiros números;\n",
        "\n",
        "b. uma lista com os 5 últimos números;\n",
        "\n",
        "c. uma lista contendo apenas os elementos das posições pares;\n",
        "\n",
        "d. uma lista contendo apenas os elementos das posições ímpares;\n",
        "\n",
        "e. a lista inversa da lista sorteada (isto é, uma lista que começa com o último elemento da lista sorteada e termina com o primeiro);\n",
        "\n",
        "f. uma lista inversa dos 5 primeiros números;\n",
        "\n",
        "g. uma lista inversa dos 5 últimos números.'''\n",
        "\n",
        "from random import randrange\n",
        "\n",
        "lista_princ = []\n",
        "for l in range(10):\n",
        "  x = randrange(0, 100)\n",
        "  lista_princ.append(x)\n",
        "print(lista_princ)\n",
        "\n",
        "lista_4first = []\n",
        "for l in lista_princ[:4]:\n",
        "  lista_4first.append(l)\n",
        "print(lista_4first)\n",
        "\n",
        "lista_5last = []\n",
        "for l in lista_princ[5:10]:\n",
        "  lista_5last.append(l)\n",
        "print(lista_5last)\n",
        "\n",
        "lista_par = []\n",
        "for l in lista_princ:\n",
        "  if l%2 == 0:\n",
        "    lista_par.append(l)\n",
        "print(lista_par)\n",
        "\n",
        "lista_impar = []\n",
        "for l in lista_princ:\n",
        "  if l%2 != 0:\n",
        "    lista_impar.append(l)\n",
        "print(lista_impar)\n",
        "\n",
        "lista_inverso = list(reversed(lista_princ))\n",
        "print(lista_inverso)\n",
        "\n",
        "lista_5inverso = list(reversed(lista_princ[:5]))\n",
        "print(lista_5inverso)\n",
        "\n",
        "lista_5inverso = list(reversed(lista_princ[5:]))\n",
        "print(lista_5inverso)"
      ],
      "metadata": {
        "colab": {
          "base_uri": "https://localhost:8080/"
        },
        "id": "4nKItjESZiOB",
        "outputId": "d0335af7-ea2f-42eb-8a36-5610ff21ff33"
      },
      "execution_count": null,
      "outputs": [
        {
          "output_type": "stream",
          "name": "stdout",
          "text": [
            "[60, 51, 5, 80, 87, 79, 81, 26, 44, 76]\n",
            "[60, 51, 5, 80]\n",
            "[79, 81, 26, 44, 76]\n",
            "[60, 80, 26, 44, 76]\n",
            "[51, 5, 87, 79, 81]\n",
            "[76, 44, 26, 81, 79, 87, 80, 5, 51, 60]\n",
            "[87, 80, 5, 51, 60]\n",
            "[76, 44, 26, 81, 79]\n"
          ]
        }
      ]
    },
    {
      "cell_type": "code",
      "source": [
        "'''\n",
        "Faça um programa que sorteia 10 números entre 0 e 100 e conte quantos números sorteados são maiores que 50.\n",
        "\n",
        "Obs.: Precisa usar a biblioteca random\n",
        "'''\n",
        "from random import randrange\n",
        "\n",
        "lista_ = []\n",
        "for l in range(10):\n",
        "  x = randrange(0, 100)\n",
        "  lista_.append(x)\n",
        "\n",
        "for l in lista_:\n",
        "  if l >= 0:\n",
        "   count += 1\n",
        "print(count)\n"
      ],
      "metadata": {
        "colab": {
          "base_uri": "https://localhost:8080/"
        },
        "id": "8EHiaSWZnAJl",
        "outputId": "035e8991-3371-443f-d9f4-4e7c43172250"
      },
      "execution_count": null,
      "outputs": [
        {
          "output_type": "stream",
          "name": "stdout",
          "text": [
            "15\n"
          ]
        }
      ]
    },
    {
      "cell_type": "code",
      "source": [
        "''' Faça um programa que sorteie 10 números entre 0 e 100 e imprima:\n",
        "\n",
        "a. o maior número sorteado;\n",
        "\n",
        "b. o menor número sorteado;\n",
        "\n",
        "c. a média dos números sorteados;\n",
        "\n",
        "d. a soma dos números sorteados.\n",
        "\n",
        "Obs.: Precisa usar a biblioteca random'''\n",
        "\n",
        "from random import randrange\n",
        "\n",
        "lista_10 = []\n",
        "for l in range(10):\n",
        "  x = randrange(0, 100)\n",
        "  lista_10.append(x)\n",
        "\n",
        "maximo = []\n",
        "maximo.append(max(lista_10))\n",
        "print(maximo)\n",
        "\n",
        "minimo = []\n",
        "minimo.append(min(lista_10))\n",
        "print(minimo)\n",
        "\n",
        "media = sum(lista_10) / 10\n",
        "print(media)\n",
        "\n",
        "soma = sum(lista_10)\n",
        "print(soma)\n"
      ],
      "metadata": {
        "colab": {
          "base_uri": "https://localhost:8080/"
        },
        "id": "MAD177fHq_wI",
        "outputId": "d53c8082-88a5-44a4-8681-769880ba2ad5"
      },
      "execution_count": null,
      "outputs": [
        {
          "output_type": "stream",
          "name": "stdout",
          "text": [
            "[94]\n",
            "[15]\n",
            "62.2\n",
            "622\n"
          ]
        }
      ]
    },
    {
      "cell_type": "code",
      "source": [
        "'''\n",
        "Super Desafio - Faça um programa que pede para o usuário digitar o CPF e verifica\n",
        "se ele é válido. Para isso, primeiramente o programa deve multiplicar cada um dos\n",
        "9 primeiros dígitos do CPF pelos números de 10 a 2 e somar todas as respostas.\n",
        "O resultado deve ser multiplicado por 10 e dividido por 11. O resto dessa divisão\n",
        "deve ser igual ao primeiro dígito verificador (10º dígito). Em seguida, o programa\n",
        "deve multiplicar cada um dos 10 primeiros dígitos do CPF pelos números de 11 a 2 e\n",
        "repetir o procedimento anterior para verificar o segundo dígito verificador.\n",
        "\n",
        "Exemplo:\n",
        "\n",
        "Se o CPF for 286.255.878-87 o programa deve fazer primeiro:\n",
        "\n",
        "x = (2*10 + 8*9 + 6*8 + 2*7 + 5*6 + 5*5 + 8*4 + 7*3 + 8*2)\n",
        "\n",
        "Em seguida, o programa deve testar se x*10%11 == 8 (o décimo número do CPF).\n",
        "Se sim, o programa deve calcular:\n",
        "\n",
        "x = (2*11 + 8*10 + 6*9 + 2*8 + 5*7 + 5*6 + 8*5 + 7*4 + 8*3 + 8*2)\n",
        "\n",
        "e verificar se x*10%11 == 7 (o décimo primeiro número do CPF).\n",
        "'''\n",
        "\n",
        "CPF = input(\"Informe o CPF: \")\n"
      ],
      "metadata": {
        "id": "zJoILSUmtSj1"
      },
      "execution_count": null,
      "outputs": []
    }
  ]
}