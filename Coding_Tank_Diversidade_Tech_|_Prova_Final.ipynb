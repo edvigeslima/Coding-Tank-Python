{
  "nbformat": 4,
  "nbformat_minor": 0,
  "metadata": {
    "colab": {
      "name": "Coding Tank Diversidade Tech | Prova Final.ipynb",
      "provenance": [],
      "authorship_tag": "ABX9TyNU/bIGttPr6r5nYj0/+Ayo"
    },
    "kernelspec": {
      "name": "python3",
      "display_name": "Python 3"
    },
    "language_info": {
      "name": "python"
    }
  },
  "cells": [
    {
      "cell_type": "code",
      "execution_count": 1,
      "metadata": {
        "colab": {
          "base_uri": "https://localhost:8080/"
        },
        "id": "jYSI3NkNvCNR",
        "outputId": "5173cb63-3e6b-485c-c244-ff630cf9182a"
      },
      "outputs": [
        {
          "output_type": "stream",
          "name": "stdout",
          "text": [
            "Digite seu ano de nascimento: 12\n",
            "Digite sua altura: 1.50\n",
            "\n",
            "Carrossel: acesso foi liberado.\n",
            "\n",
            "Piscina de bolinhas: acesso não foi liberado.\n",
            "\n",
            "Montanha-russa: acesso foi liberado.\n",
            "\n"
          ]
        }
      ],
      "source": [
        "'''\n",
        "Um parque de diversões tem 3 atrações principais: o carrossel, piscina de bolinhas e montanha-russa.\n",
        "\n",
        "Para poder participar de uma atração a pessoa deve cumprir as seguintes condições:\n",
        "\n",
        "Carrossel: altura mínima de 1,00m e idade mínima de 3 anos.\n",
        "\n",
        "Piscina de bolinhas: idade entre 4 e 9 anos e máximo de 1,30m de altura.\n",
        "\n",
        "Montanha-russa: altura mínima de 1,10m.\n",
        "O fiscal de cada atração verificará o ano de nascimento da pessoa e altura para liberar o acesso para uma pessoa.\n",
        "\n",
        "Faça uma função em python que receba o ano de nascimento e altura da pessoa e informe quais as atrações que a pessoa pode participar.\n",
        "'''\n",
        "\n",
        "from datetime import datetime\n",
        "\n",
        "def verificar_pessoa(ano_nascimento, altura_pessoa):\n",
        "\n",
        "  idade = datetime.now().year - ano_nascimento\n",
        "  carrossel = False\n",
        "  piscina = False\n",
        "  montanha_russa = False\n",
        "\n",
        "  # Carrossel: altura mínima de 1,00m e idade mínima de 3 anos.\n",
        "  if (altura_pessoa >= 1 and idade >= 3):\n",
        "    carrossel = True\n",
        "    print(\"\\nCarrossel: acesso foi liberado.\\n\")\n",
        "  else:\n",
        "    print(\"\\nCarrossel: acesso não foi liberado.\\n\")\n",
        "\n",
        "  # Piscina de bolinhas: idade entre 4 e 9 anos e máximo de 1,30m de altura.\n",
        "  if ((idade <= 9 and idade >= 4) and altura_pessoa <= 1.30):\n",
        "    piscina = True\n",
        "    print(\"Piscina de bolinhas: acesso foi liberado.\\n\")\n",
        "  else:\n",
        "    print(\"Piscina de bolinhas: acesso não foi liberado.\\n\")\n",
        "\n",
        "\n",
        "  # Montanha-russa: altura mínima de 1,10m.\n",
        "  if (altura_pessoa >= 1.10):\n",
        "    montanha_russa = True\n",
        "    print(\"Montanha-russa: acesso foi liberado.\\n\")\n",
        "  else:\n",
        "    print(\"Montanha-russa: acesso não foi liberado.\\n\")\n",
        "\n",
        "\n",
        "\n",
        "\n",
        "seu_ano_nascimento = int(input(\"Digite seu ano de nascimento: \"))\n",
        "sua_altura = float(input(\"Digite sua altura: \"))\n",
        "\n",
        "verificar_pessoa(seu_ano_nascimento, sua_altura)\n"
      ]
    },
    {
      "cell_type": "code",
      "source": [
        "'''\n",
        "Peça ao usuário para entrar com um número e faça uma função que retorne\n",
        "o fatorial dele como resposta. O fatorial de um número é o resultado da\n",
        "multiplicação de todos os números que o antecedem a partir de 1 até o número fornecido.\n",
        "\n",
        "Exemplo: fatorial de 4 = 1 * 2 * 3 * 4 = 24\n",
        "'''\n",
        "\n",
        "def fatorial(numero):\n",
        "  produto = 1\n",
        "  if numero == 0:\n",
        "    return produto\n",
        "  else:\n",
        "  # n! = n * (n-1) * ... * 1\n",
        "    for num in range(1, numero+1):\n",
        "      produto *= num\n",
        "    return produto\n",
        "\n",
        "\n",
        "seu_numero = int(input(\"Informe um número : \"))\n",
        "if seu_numero >= 0:\n",
        "  fatorial = fatorial(seu_numero)\n",
        "  print(f\"Fatorial de {seu_numero} = {fatorial}\")\n",
        "else:\n",
        "  print(\"A entrada é inválida! Tente novamente.\")\n"
      ],
      "metadata": {
        "colab": {
          "base_uri": "https://localhost:8080/"
        },
        "id": "tXuK2Sl53P45",
        "outputId": "0d3ed465-d20e-47dc-f18e-42cd0fa89d3c"
      },
      "execution_count": null,
      "outputs": [
        {
          "output_type": "stream",
          "name": "stdout",
          "text": [
            "Informe o número : -9\n",
            "A entrada é inválida! Tente novamente.\n"
          ]
        }
      ]
    },
    {
      "cell_type": "code",
      "source": [
        "'''\n",
        "Dado um número fornecido pelo usuário, faça um programa que teste se é número primo\n",
        "e imprima na tela. Além disso, exiba uma lista de divisores do número testado.\n",
        "Um número primo é divisível somente por 1 e por ele mesmo. Seu programa deve ser funcional para qualquer número até o 100.\n",
        "\n",
        "13 é divisível somente por 1 e ele mesmo (13), então é primo.\n",
        "25 é divisível por 1, 5 e ele mesmo (25), então NÃO é primo.\n",
        "'''\n",
        "\n",
        "divisores = []\n",
        "divisor = 0\n",
        "\n",
        "seu_numero = int(input(\"Informe um número : \"))\n",
        "\n",
        "if seu_numero <= 100:\n",
        "  for numero in range(2,seu_numero):\n",
        "    if (seu_numero%numero == 0):\n",
        "      divisores.append(numero)\n",
        "      divisor += 1\n",
        "\n",
        "  if (divisor == 0):\n",
        "    print(f\"{seu_numero} é divisível somente por 1 e ele mesmo ({seu_numero}), então é primo.\")\n",
        "  else:\n",
        "    print(f\"{seu_numero} por 1, {str(divisores).strip('[]')} e ele mesmo ({seu_numero}), então NÃO é primo.\")\n",
        "else:\n",
        "  print(\"A entrada é inválida! Tente novamente.\")\n",
        "\n",
        "\n",
        "# Informe um número : 45\n",
        "# 45 por 1, 3, 5, 9, 15 e ele mesmo (45), então NÃO é primo.\n",
        "\n",
        "# Informe um número : 13\n",
        "# 13 é divisível somente por 1 e ele mesmo (13), então é primo.\n",
        "\n",
        "\n"
      ],
      "metadata": {
        "colab": {
          "base_uri": "https://localhost:8080/"
        },
        "id": "zO3ubROi61CM",
        "outputId": "708a0e90-6fd5-4c41-e98f-fe782104c236"
      },
      "execution_count": null,
      "outputs": [
        {
          "output_type": "stream",
          "name": "stdout",
          "text": [
            "Informe um número : 13\n",
            "13 é divisível somente por 1 e ele mesmo (13), então é primo.\n"
          ]
        }
      ]
    },
    {
      "cell_type": "code",
      "source": [
        "'''\n",
        "Faça um script que leia 10 números do usuário e informe se algum número foi inserido em sequência.\n",
        "Se mais de um número for repetido, informe ao menos um (caso no Exemplo 3).\n",
        "\n",
        "Exemplo 1\n",
        "input 1: 3\n",
        "input 2: 5\n",
        "(etc...) 6.. 7.. 12.. 2... 43.. 5.. \n",
        "input 9: 1\n",
        "input 10: 8\n",
        "output: Nenhum número foi repetido em sequência\n",
        "Exemplo 2\n",
        "input 1: 9\n",
        "input 2: 4\n",
        "(etc...) 9.. 5.. 9.. 6... 3.. 1.. \n",
        "input 9: 6\n",
        "input 10: 6\n",
        "output: O número 6 foi repetido em sequência\n",
        "Exemplo 3\n",
        "input 1: 2\n",
        "input 2: 3\n",
        "(etc...) 9.. 9.. 4.. 6... 7.. 7.. \n",
        "input 9: 4\n",
        "input 10: 3\n",
        "output: O número 7 foi repetido em sequência\n",
        "\n",
        "'''\n",
        "contador = 0\n",
        "numeros = list()\n",
        "repetido = list()\n",
        "\n",
        "while (contador < 10):\n",
        "  seu_numero = int(input(f\"Digite o {contador+1}º número: \"))\n",
        "  numeros.append(seu_numero)\n",
        "  contador += 1\n",
        "\n",
        "print(numeros)\n",
        "\n",
        "for n in range(len(numeros)-1):\n",
        "  if numeros[n] == numeros[n+1]:\n",
        "    repetido.append(numeros[n])\n",
        "\n",
        "if len(repetido) != 0:\n",
        "  print(f\"O número {repetido} foi repetido em sequência.\")\n",
        "else:\n",
        "  print(\"Nenhum número foi repetido em sequência.\")\n"
      ],
      "metadata": {
        "colab": {
          "base_uri": "https://localhost:8080/"
        },
        "id": "pSA5xbutAxlT",
        "outputId": "498ccf79-bfe8-4c7e-d678-34f805ae8372"
      },
      "execution_count": null,
      "outputs": [
        {
          "output_type": "stream",
          "name": "stdout",
          "text": [
            "Digite o 1º número: 2\n",
            "Digite o 2º número: 2\n",
            "Digite o 3º número: 3\n",
            "Digite o 4º número: 3\n",
            "Digite o 5º número: 6\n",
            "Digite o 6º número: 0\n",
            "Digite o 7º número: 7\n",
            "Digite o 8º número: 5\n",
            "Digite o 9º número: 4\n",
            "Digite o 10º número: 3\n",
            "[2, 2, 3, 3, 6, 0, 7, 5, 4, 3]\n",
            "O número [2, 3] foi repetido em sequência.\n"
          ]
        }
      ]
    }
  ]
}