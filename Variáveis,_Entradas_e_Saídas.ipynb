{
  "nbformat": 4,
  "nbformat_minor": 0,
  "metadata": {
    "colab": {
      "name": "LC | Variáveis, Entradas e Saídas.ipynb",
      "provenance": [],
      "authorship_tag": "ABX9TyO5RagJ2XskUQSi2Cjx1k8b",
      "include_colab_link": true
    },
    "kernelspec": {
      "name": "python3",
      "display_name": "Python 3"
    },
    "language_info": {
      "name": "python"
    }
  },
  "cells": [
    {
      "cell_type": "markdown",
      "metadata": {
        "id": "view-in-github",
        "colab_type": "text"
      },
      "source": [
        "<a href=\"https://colab.research.google.com/github/edvigeslima/Python-Exercises/blob/main/Vari%C3%A1veis%2C_Entradas_e_Sa%C3%ADdas.ipynb\" target=\"_parent\"><img src=\"https://colab.research.google.com/assets/colab-badge.svg\" alt=\"Open In Colab\"/></a>"
      ]
    },
    {
      "cell_type": "code",
      "execution_count": 1,
      "metadata": {
        "colab": {
          "base_uri": "https://localhost:8080/"
        },
        "id": "CklD6XIy26wc",
        "outputId": "7fecea99-83f0-4dec-ab9b-9da96a0c9b05"
      },
      "outputs": [
        {
          "output_type": "stream",
          "name": "stdout",
          "text": [
            "Olá, Mundo!\n"
          ]
        }
      ],
      "source": [
        "print(\"Olá, Mundo!\")"
      ]
    },
    {
      "cell_type": "code",
      "source": [
        "#Faça um programa que peça um número e mostre a mensagem \"O número informado foi [número]\".\n",
        "\n",
        "numero = float(input(\"Digite um número: \"))\n",
        "num_int = int(numero)\n",
        "\n",
        "\n",
        "if (numero - num_int == 0):\n",
        " print(f'O número informado foi {num_int}.')\n",
        "else:\n",
        " print(f'O número informado foi {numero}.')\n",
        " "
      ],
      "metadata": {
        "colab": {
          "base_uri": "https://localhost:8080/"
        },
        "id": "eTjuULoJ3BgP",
        "outputId": "f426f97c-46bb-44ff-aa78-e9ecf69d63db"
      },
      "execution_count": 3,
      "outputs": [
        {
          "output_type": "stream",
          "name": "stdout",
          "text": [
            "Digite um número: 23.90\n",
            "O número informado foi 23.9.\n"
          ]
        }
      ]
    },
    {
      "cell_type": "code",
      "source": [
        "#Faça um programa que peça um número para o usuário (string),\n",
        "#converta-o para float e depois imprima-o na tela.\n",
        "#Você consegue fazer a mesma coisa, porém convertendo para int?\n",
        "\n",
        "numero = str(input(\"Digite um número: \"))\n",
        "\n",
        "#Coverta para real (float)\n",
        "num_float = float(numero)\n",
        "print(f'O número informado foi convertido para real: {num_float}.')\n",
        "\n",
        "#Coverta para inteiro (int)\n",
        "num_int = int(num_float)\n",
        "print(f'O número informado foi convertido para inteiro: {num_int}.')"
      ],
      "metadata": {
        "colab": {
          "base_uri": "https://localhost:8080/"
        },
        "id": "FAS6wJfc3epb",
        "outputId": "ba6ecede-1b4e-46af-83bf-4b00b80f7b1e"
      },
      "execution_count": 4,
      "outputs": [
        {
          "output_type": "stream",
          "name": "stdout",
          "text": [
            "Digite um número: 1234.8\n",
            "O número informado foi convertido para real: 1234.8.\n",
            "O número informado foi convertido para inteiro: 1234.\n"
          ]
        }
      ]
    },
    {
      "cell_type": "code",
      "source": [
        "#Faça um programa que peça dois números inteiros e imprima a soma deles.\n",
        "\n",
        "numero_1 = int(input(\"Digite um número inteiro: \"))\n",
        "numero_2 = int(input(\"Digite outro número inteiro: \"))\n",
        "\n",
        "#Soma 2 números inteiros\n",
        "soma = numero_1 + numero_2\n",
        "print(f'A soma {numero_1} mais {numero_2} é {soma}.')"
      ],
      "metadata": {
        "colab": {
          "base_uri": "https://localhost:8080/"
        },
        "id": "s_zOhqcT36F1",
        "outputId": "06f4a525-5355-4014-a153-1b88ab877adf"
      },
      "execution_count": 5,
      "outputs": [
        {
          "output_type": "stream",
          "name": "stdout",
          "text": [
            "Digite um número inteiro: 13\n",
            "Digite outro número inteiro: 34\n",
            "A soma 13 mais 34 é 47.\n"
          ]
        }
      ]
    },
    {
      "cell_type": "code",
      "source": [
        "#Faça um programa que peça as 4 notas bimestrais de um aluno e mostre a média aritmética delas.\n",
        "nota_1 = float(input(\"Digite nota bimestral 1: \"))\n",
        "nota_2 = float(input(\"Digite nota bimestral 2: \"))\n",
        "nota_3 = float(input(\"Digite nota bimestral 3: \"))\n",
        "nota_4 = float(input(\"Digite nota bimestral 4: \"))\n",
        "\n",
        "media = (nota_1 + nota_2 + nota_3 + nota_4) / 4 # média aritmética delas\n",
        "\n",
        "print(f'Sua média aritmética é {media}.')"
      ],
      "metadata": {
        "colab": {
          "base_uri": "https://localhost:8080/"
        },
        "id": "yuc3nUZf4JO0",
        "outputId": "c8935deb-e938-4b23-ae34-7f995931fcd4"
      },
      "execution_count": 6,
      "outputs": [
        {
          "output_type": "stream",
          "name": "stdout",
          "text": [
            "Digite nota bimestral 1: 10\n",
            "Digite nota bimestral 2: 8\n",
            "Digite nota bimestral 3: 0\n",
            "Digite nota bimestral 4: 6\n",
            "Sua média aritmética é 6.0.\n"
          ]
        }
      ]
    },
    {
      "cell_type": "code",
      "source": [
        "#Faça um programa que peça o raio de um círculo, calcule e mostre sua área.\n",
        "#Obs: Fórmula da área de um círculo: A = 3,14*(r**2), onde r é o raio.\n",
        "\n",
        "raio = float(input(\"Digite o raio de um círculo: \"))\n",
        "\n",
        "A = 3.14 * (raio ** 2) #fórmula da área de um círculo\n",
        "\n",
        "print(f'A área do círculo foi cedido por você é {A:.2f}.')"
      ],
      "metadata": {
        "colab": {
          "base_uri": "https://localhost:8080/"
        },
        "id": "fugyM5CU4JUh",
        "outputId": "85fbc146-c97b-4fdf-b4f0-e016e03b3f56"
      },
      "execution_count": 7,
      "outputs": [
        {
          "output_type": "stream",
          "name": "stdout",
          "text": [
            "Digite o raio de um círculo: 12\n",
            "A área do círculo foi cedido por você é 452.16.\n"
          ]
        }
      ]
    },
    {
      "cell_type": "code",
      "source": [
        ""
      ],
      "metadata": {
        "colab": {
          "base_uri": "https://localhost:8080/"
        },
        "id": "uLZFT8qc4JdH",
        "outputId": "2919fd14-e10b-44dd-ed5f-f4e84398cd09"
      },
      "execution_count": 8,
      "outputs": [
        {
          "output_type": "stream",
          "name": "stdout",
          "text": [
            "Quanto que você ganha por hora? 123\n",
            "Quantas horas que você trabalha no mês? 167\n",
            "Seu salário no referido mês é R$20541.00.\n"
          ]
        }
      ]
    },
    {
      "cell_type": "code",
      "source": [
        "#Faça um programa que peça a temperatura em graus Fahrenheit (F), transforme e mostre a temperatura em graus Celsius (°C).\n",
        "# °C = (5 * (F-32) / 9)\n",
        "#Obs: Tente também fazer um programa que faça o inverso: peça a temperatura em graus Celsius e a transforme em graus Fahrenheit.\n",
        "\n",
        "print(\"****** Conversão de escala de temperatura ******\")\n",
        "temp = input(\"1. Introduza a unidade da temperatura em graus, Celsius ou Fahrenheit. (C / F): \").upper()\n",
        "\n",
        "if temp == \"C\":\n",
        "  unidade = \"Celsius (°C)\"\n",
        "elif temp == \"F\":\n",
        "  unidade = \"Fahrenheit (F)\"\n",
        "else:\n",
        "  print(f'A unidade escolhida é {temp}, não existe das opções.') \n",
        "\n",
        "\n",
        "n_temp = float(input(f\"2. Digite o número da temperatura em graus de {unidade} que deseja converter: \"))\n",
        "\n",
        "if temp == \"C\":\n",
        "  unidade = \"Fahrenheit (F)\"\n",
        "  n_temp = (5 * (n_temp-32) / 9)\n",
        "  \n",
        "elif temp == \"F\":\n",
        "  unidade = \"Celsius (°C)\"\n",
        "  n_temp = (n_temp * 9 / 5) + 32\n",
        "\n",
        "print(f'A temperatura em graus {unidade} é {n_temp:.2f} °{temp}.')"
      ],
      "metadata": {
        "colab": {
          "base_uri": "https://localhost:8080/"
        },
        "id": "PzWIINHm4JlZ",
        "outputId": "737d8518-2c7b-4683-dd43-edb775e83514"
      },
      "execution_count": 5,
      "outputs": [
        {
          "output_type": "stream",
          "name": "stdout",
          "text": [
            "****** Conversão de escala de temperatura ******\n",
            "1. Introduza a unidade da temperatura em graus, Celsius ou Fahrenheit. (C / F): f\n",
            "2. Digite o número da temperatura em graus de Fahrenheit (F) que deseja converter: 50\n",
            "A temperatura em graus Celsius (°C) é 122.00 °F.\n"
          ]
        }
      ]
    },
    {
      "cell_type": "code",
      "source": [
        "#Faça um programa que peça o dia, o mês e o ano para o usuário e imprima a data completa no formato dd/mm/aaaa.\n",
        "\n",
        "dia = int(input(\"Digite o dia: \"))\n",
        "mes = int(input(\"Digite o mês: \"))\n",
        "ano = int(input(\"Digite o ano: \"))\n",
        "\n",
        "# mês com 31 dias\n",
        "if mes == 1 or mes == 3 or mes == 5 or mes == 7 or mes == 8 or mes == 10 or mes == 12:\n",
        "  if dia >= 1 and dia <= 31:\n",
        "    datavalida = True\n",
        "\n",
        "# mês com 30 dias\n",
        "elif mes == 4 or mes == 6 or mes == 9 or mes == 11:\n",
        "  if dia >= 1 and dia <= 30:\n",
        "    datavalida = True\n",
        "\n",
        "# mês com 28 ou 29 (ano bissexto) dias\n",
        "elif mes == 2:\n",
        "  if ano % 4 == 0 and ano % 100 != 0 or ano % 400 == 0 and ano <= 1900:\n",
        "    if dia>=1 and dia<=29:\n",
        "      datavalida = True\n",
        "    elif dia>=1 and dia<=28:\n",
        "      datavalida = True\n",
        "else:\n",
        "  datavalida = False\n",
        "\n",
        "if(datavalida):\n",
        "  print(f\"Data: {dia}/{mes}/{ano}\")\n",
        "else:\n",
        "  print(f\"Data inválida! {dia}/{mes}/{ano}\")\n",
        "\n"
      ],
      "metadata": {
        "colab": {
          "base_uri": "https://localhost:8080/"
        },
        "id": "vQ1B8KihRt4K",
        "outputId": "c513f071-bb8d-43df-b159-ea2888155bbb"
      },
      "execution_count": 21,
      "outputs": [
        {
          "output_type": "stream",
          "name": "stdout",
          "text": [
            "Digite o dia: 12\n",
            "Digite o mês: 12\n",
            "Digite o ano: 2022\n",
            "Data: 12/12/2022\n"
          ]
        }
      ]
    },
    {
      "cell_type": "code",
      "source": [
        "#Faça um programa que peça 2 números inteiros e um número real, calcule e mostre:\n",
        "# a) o produto do dobro do primeiro com metade do segundo.\n",
        "# b) a soma do triplo do primeiro com o terceiro.\n",
        "# c) o terceiro elevado ao cubo.\n",
        "\n",
        "numero_1 = int(input(\"Digite um número inteiro: \"))\n",
        "numero_2 = int(input(\"Digite outro número inteiro: \"))\n",
        "numero_3 = float(input(\"Agora, digite um número real: \"))\n",
        "\n",
        "# a) o produto do dobro do primeiro com metade do segundo.\n",
        "produto = int((numero_1 * 2) * (numero_2 / 2))\n",
        "\n",
        "if numero_1 == 0 or numero_2 == 0:  #propriedade da produto nulo\n",
        "  print(f'\\nO produto do dobro do {numero_1} com metade do {numero_2} é 0.\\n')\n",
        "\n",
        "else:\n",
        "  print(f'\\nO produto do dobro do {numero_1} com metade do {numero_2} é {produto}.\\n')\n",
        "\n",
        "# b) a soma do triplo do primeiro com o terceiro.\n",
        "soma = (numero_1 * 3) + numero_3\n",
        "print(f'A soma {numero_1} mais {numero_3} é {soma}.\\n')\n",
        "\n",
        "# c) o terceiro elevado ao cubo.\n",
        "cubo = numero_3 ** 3\n",
        "print(f'{numero_3} elevado ao cubo é {cubo:.1f}.\\n')"
      ],
      "metadata": {
        "colab": {
          "base_uri": "https://localhost:8080/"
        },
        "id": "2z9nYlDggl5t",
        "outputId": "5668eb48-21b2-4695-caa5-4581bce3c4d8"
      },
      "execution_count": 48,
      "outputs": [
        {
          "output_type": "stream",
          "name": "stdout",
          "text": [
            "Digite um número inteiro: 12\n",
            "Digite outro número inteiro: 1\n",
            "Agora, digite um número real: 89\n",
            "\n",
            "O produto do dobro da 12 com metade do 1 é 12.\n",
            "\n",
            "A soma 12 mais 89.0 é 125.0.\n",
            "\n",
            "O 89.0 elevado ao cubo é 704969.0.\n",
            "\n"
          ]
        }
      ]
    },
    {
      "cell_type": "code",
      "source": [
        "#Faça um programa que peça o peso e altura de uma pessoa e calcule seu IMC (Índice de Massa Corporal).\n",
        "# Obs: IMC = Peso/Altura**2\n",
        "\n",
        "altura = float(input(\"Digite sua altura (em metro): \"))\n",
        "peso = float(input(\"Digite sua altura (em quilo): \"))\n",
        "\n",
        "IMC = peso / (altura ** 2)\n",
        "\n",
        "# IMC\t              CLASSIFICAÇÃO\n",
        "# MENOR QUE 18,5\t    MAGREZA\n",
        "# ENTRE 18,5 E 24,9\t  NORMAL\n",
        "# ENTRE 25,0 E 29,9\t  SOBREPESO\n",
        "# ENTRE 30,0 E 39,9\t  OBESIDADE\n",
        "# MAIOR QUE 40,0\t    OBESIDADE GRAVE\n",
        "\n",
        "if IMC < 18.5:\n",
        "  classif = \"magreza\"\n",
        "elif IMC >= 18.5 and IMC <= 24.9:\n",
        "  classif = \"normal\"\n",
        "elif IMC >= 25 and IMC <= 29.9:\n",
        "  classif = \"sobrepeso\"\n",
        "elif IMC >= 30 and IMC <= 39.9:\n",
        "  classif = \"obesidade\"\n",
        "elif IMC >= 40:\n",
        "  classif = \"obesidade grave\"\n",
        "\n",
        "print(f'O seu IMC é {IMC:.1f}. De acordo com a Organização Mundial da Saúde, seu IMC é considerado {classif} para a sua altura.')"
      ],
      "metadata": {
        "colab": {
          "base_uri": "https://localhost:8080/"
        },
        "id": "VpycHHqLuVbh",
        "outputId": "dadcb47d-aa66-44a3-cd17-25dcc9d935a9"
      },
      "execution_count": 49,
      "outputs": [
        {
          "output_type": "stream",
          "name": "stdout",
          "text": [
            "Digite sua altura (em metro): 1.85\n",
            "Digite sua altura (em quilo): 75\n",
            "O seu IMC é 21.9. De acordo com a Organização Mundial da Saúde, seu IMC é considerado normal para a sua altura.\n"
          ]
        }
      ]
    },
    {
      "cell_type": "code",
      "source": [
        "#Faça um programa que peça um valor monetário e aumente-o em 15%.\n",
        "#Seu programa deve imprimir a mensagem “O novo valor é [valor]”.\n",
        "\n",
        "valor = float(input(\"Digite um valor monetário: \"))\n",
        "\n",
        "novo_valor = valor + (valor * 15/100)\n",
        "\n",
        "print(f'O novo valor é {novo_valor:.2f}.\\n')"
      ],
      "metadata": {
        "colab": {
          "base_uri": "https://localhost:8080/"
        },
        "id": "dgKFbxIvzpW6",
        "outputId": "0e678649-3ee6-4b74-dd63-ead400562ec7"
      },
      "execution_count": 50,
      "outputs": [
        {
          "output_type": "stream",
          "name": "stdout",
          "text": [
            "Digite um valor monetário: 8\n",
            "O novo valor é 9.20.\n",
            "\n"
          ]
        }
      ]
    },
    {
      "cell_type": "code",
      "source": [
        "#Faça um programa que peça um valor monetário e diminua-o em 15%.\n",
        "#Seu programa deve imprimir a mensagem “O novo valor é [valor]”.\n",
        "\n",
        "valor = float(input(\"Digite um valor monetário: \"))\n",
        "\n",
        "novo_valor = valor - (valor * 15/100)\n",
        "\n",
        "print(f'O novo valor é {novo_valor:.2f}.\\n')"
      ],
      "metadata": {
        "colab": {
          "base_uri": "https://localhost:8080/"
        },
        "id": "iNhRlpZL1F6z",
        "outputId": "f21cf1af-c3f9-4286-928d-f9c7a55d2472"
      },
      "execution_count": 51,
      "outputs": [
        {
          "output_type": "stream",
          "name": "stdout",
          "text": [
            "Digite um valor monetário: 8\n",
            "O novo valor é 6.80.\n",
            "\n"
          ]
        }
      ]
    },
    {
      "cell_type": "code",
      "source": [
        "#Desafio 1 - Peça para o usuário digitar uma velocidade inicial (em m/s),\n",
        "#uma posição inicial (em m) e um instante de tempo (em s) e imprima a posição\n",
        "#de um projétil nesse instante de tempo.\n",
        "#Use a fórmula matemática:\n",
        "#y(t) = y(0) + v(0)*t + (g*(t**2)/2)\n",
        "#Onde, g é a aceleração da gravidade (-10m/s²), y(t) é a posição final,\n",
        "#y(0) é a posição inicial, v(0) é a velocidade inicial e t é o instante de tempo.\n",
        "\n",
        "velocidade_ini = float(input(\"Digite uma velocidade inicial (em m/s): \"))\n",
        "pos_ini = float(input(\"Digite uma posição inicial (em m): \"))\n",
        "tempo = float(input(\"Digite um instante de tempo (em s): \"))\n",
        "\n",
        "aceleracao = -10\n",
        "\n",
        "pos_final = pos_ini + (velocidade_ini * tempo) + (aceleracao * (tempo**2) / 2)\n",
        "\n",
        "print(f'A posição de um projétil nesse instante de tempo {tempo}s é {pos_final:.1f} m.')"
      ],
      "metadata": {
        "colab": {
          "base_uri": "https://localhost:8080/"
        },
        "id": "bQDBx4UV1gJf",
        "outputId": "9aa0e18d-c5dd-4e3b-f418-6d1710d176c2"
      },
      "execution_count": 53,
      "outputs": [
        {
          "output_type": "stream",
          "name": "stdout",
          "text": [
            "Digite uma velocidade inicial (em m/s): -10\n",
            "Digite uma posição inicial (em m): 60\n",
            "Digite um instante de tempo (em s): 5\n",
            "A posição de um projétil nesse instante de tempo 5.0s é -115.0 m.\n"
          ]
        }
      ]
    },
    {
      "cell_type": "code",
      "source": [
        "# Desafio 2 - Faça um programa que informe a data e a hora para o usuário.\n",
        "# Para isso use a função datetime.now() do módulo datetime.\n",
        "\n",
        "from datetime import datetime\n",
        "\n",
        "agora = datetime.now()\n",
        "print(f\"A data e a hora de agora:\", agora)\n"
      ],
      "metadata": {
        "colab": {
          "base_uri": "https://localhost:8080/"
        },
        "id": "rCAw0Nz55_43",
        "outputId": "508e1893-ff05-474a-b907-d6362aed3d7e"
      },
      "execution_count": 58,
      "outputs": [
        {
          "output_type": "stream",
          "name": "stdout",
          "text": [
            "A data e a hora: 2022-08-22 04:45:27.608020\n"
          ]
        }
      ]
    }
  ]
}