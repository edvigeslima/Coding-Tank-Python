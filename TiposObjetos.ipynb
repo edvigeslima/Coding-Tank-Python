{
  "nbformat": 4,
  "nbformat_minor": 0,
  "metadata": {
    "colab": {
      "name": "TiposObjetos",
      "provenance": [],
      "authorship_tag": "ABX9TyP06Gn2X7aKlnTnp9rwFtSJ",
      "include_colab_link": true
    },
    "kernelspec": {
      "name": "python3",
      "display_name": "Python 3"
    },
    "language_info": {
      "name": "python"
    }
  },
  "cells": [
    {
      "cell_type": "markdown",
      "metadata": {
        "id": "view-in-github",
        "colab_type": "text"
      },
      "source": [
        "<a href=\"https://colab.research.google.com/github/edvigeslima/Python-Exercises/blob/main/TiposObjetos.ipynb\" target=\"_parent\"><img src=\"https://colab.research.google.com/assets/colab-badge.svg\" alt=\"Open In Colab\"/></a>"
      ]
    },
    {
      "cell_type": "code",
      "source": [
        "# 1 - Responda qual tipo de objeto deve ser usado para\n",
        "# armazenar cada uma das seguintes informações:\n",
        "#  a. A idade de uma pessoa.\n",
        "#  b. A área de um quintal em metros quadrados.\n",
        "#  c. A média da quantidade de chuva no mês de fevereiro.\n",
        "#  d. O número de estrelas na galáxia.\n",
        "\n",
        "# a.\n",
        "idade = int(input(\"Informe sua idade: \"))\n",
        "\n",
        "print(f\"Sua idade: {idade} | Tipo: \", type(idade), end=\"\\n\\n\\n\")\n",
        "\n",
        "# b.\n",
        "area = float(input(\"Informe a área de um quintal (em metros quadrados): \"))\n",
        "\n",
        "print(f\"A área de um quintal: {area:.2f}m² | Tipo: \", type(area), end=\"\\n\\n\\n\")\n",
        "\n",
        "# c.\n",
        "qtd_chuva = float(input(\"Informe a média da quantidade de chuva no mês de fevereiro: \"))\n",
        "\n",
        "print(f\"A média da quantidade de chuva no mês de fevereiro: {qtd_chuva:.2f}mm/h | Tipo: \", type(qtd_chuva), end=\"\\n\\n\\n\")\n",
        "\n",
        "# d.\n",
        "qtd_estrela = int(input(\"Informe o número de estrelas na galáxia: \"))\n",
        "\n",
        "print(f\"O número de estrelas na galáxia: {qtd_estrela} | Tipo: \", type(qtd_estrela), end=\"\\n\\n\\n\")"
      ],
      "metadata": {
        "id": "lKpnVnBlGZti",
        "colab": {
          "base_uri": "https://localhost:8080/"
        },
        "outputId": "9c7da01e-e208-49d5-e6aa-a0787458730f"
      },
      "execution_count": null,
      "outputs": [
        {
          "output_type": "stream",
          "name": "stdout",
          "text": [
            "Informe sua idade: 41\n",
            "Sua idade: 41 | Tipo:  <class 'int'>\n",
            "\n",
            "\n",
            "Informe a área de um quintal (em metros quadrados): 34\n",
            "A área de um quintal: 34.00m² | Tipo:  <class 'float'>\n",
            "\n",
            "\n",
            "Informe a média da quantidade de chuva no mês de fevereiro: 5\n",
            "A média da quantidade de chuva no mês de fevereiro: 5.00mm/h | Tipo:  <class 'float'>\n",
            "\n",
            "\n",
            "Informe o número de estrelas na galáxia: 600000000000000\n",
            "d. O número de estrelas na galáxia: 600000000000000 | Tipo:  <class 'int'>\n",
            "\n",
            "\n"
          ]
        }
      ]
    }
  ]
}